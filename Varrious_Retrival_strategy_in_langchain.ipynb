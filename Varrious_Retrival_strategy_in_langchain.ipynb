{
  "nbformat": 4,
  "nbformat_minor": 0,
  "metadata": {
    "colab": {
      "provenance": []
    },
    "kernelspec": {
      "name": "python3",
      "display_name": "Python 3"
    },
    "language_info": {
      "name": "python"
    }
  },
  "cells": [
    {
      "cell_type": "markdown",
      "source": [
        "#Various Retrival strategy in langchain\n",
        "\n",
        "1) by cosine similarity\n",
        "\n",
        "2) maximum marginal retrival\n",
        "\n",
        "3) similarity with threshold\n",
        "\n",
        "4) Custom retrival with similarity score\n",
        "\n",
        "5)Multi Query Retrieval\n",
        "\n",
        "6)Contextual Compression Retrieval\n",
        "\n",
        "7)Ensemble Retrieval"
      ],
      "metadata": {
        "id": "Mme96DhLKfK8"
      }
    },
    {
      "cell_type": "code",
      "execution_count": 2,
      "metadata": {
        "colab": {
          "base_uri": "https://localhost:8080/"
        },
        "id": "XsS_M_2tKZHb",
        "outputId": "45ef964b-d30d-4d8c-a54c-b025cc78497a"
      },
      "outputs": [
        {
          "output_type": "stream",
          "name": "stdout",
          "text": [
            "Requirement already satisfied: langchain in /usr/local/lib/python3.11/dist-packages (0.3.26)\n",
            "Requirement already satisfied: langchain-core<1.0.0,>=0.3.66 in /usr/local/lib/python3.11/dist-packages (from langchain) (0.3.69)\n",
            "Requirement already satisfied: langchain-text-splitters<1.0.0,>=0.3.8 in /usr/local/lib/python3.11/dist-packages (from langchain) (0.3.8)\n",
            "Requirement already satisfied: langsmith>=0.1.17 in /usr/local/lib/python3.11/dist-packages (from langchain) (0.4.6)\n",
            "Requirement already satisfied: pydantic<3.0.0,>=2.7.4 in /usr/local/lib/python3.11/dist-packages (from langchain) (2.11.7)\n",
            "Requirement already satisfied: SQLAlchemy<3,>=1.4 in /usr/local/lib/python3.11/dist-packages (from langchain) (2.0.41)\n",
            "Requirement already satisfied: requests<3,>=2 in /usr/local/lib/python3.11/dist-packages (from langchain) (2.32.3)\n",
            "Requirement already satisfied: PyYAML>=5.3 in /usr/local/lib/python3.11/dist-packages (from langchain) (6.0.2)\n",
            "Requirement already satisfied: tenacity!=8.4.0,<10.0.0,>=8.1.0 in /usr/local/lib/python3.11/dist-packages (from langchain-core<1.0.0,>=0.3.66->langchain) (8.5.0)\n",
            "Requirement already satisfied: jsonpatch<2.0,>=1.33 in /usr/local/lib/python3.11/dist-packages (from langchain-core<1.0.0,>=0.3.66->langchain) (1.33)\n",
            "Requirement already satisfied: typing-extensions>=4.7 in /usr/local/lib/python3.11/dist-packages (from langchain-core<1.0.0,>=0.3.66->langchain) (4.14.1)\n",
            "Requirement already satisfied: packaging>=23.2 in /usr/local/lib/python3.11/dist-packages (from langchain-core<1.0.0,>=0.3.66->langchain) (25.0)\n",
            "Requirement already satisfied: httpx<1,>=0.23.0 in /usr/local/lib/python3.11/dist-packages (from langsmith>=0.1.17->langchain) (0.28.1)\n",
            "Requirement already satisfied: orjson<4.0.0,>=3.9.14 in /usr/local/lib/python3.11/dist-packages (from langsmith>=0.1.17->langchain) (3.11.0)\n",
            "Requirement already satisfied: requests-toolbelt<2.0.0,>=1.0.0 in /usr/local/lib/python3.11/dist-packages (from langsmith>=0.1.17->langchain) (1.0.0)\n",
            "Requirement already satisfied: zstandard<0.24.0,>=0.23.0 in /usr/local/lib/python3.11/dist-packages (from langsmith>=0.1.17->langchain) (0.23.0)\n",
            "Requirement already satisfied: annotated-types>=0.6.0 in /usr/local/lib/python3.11/dist-packages (from pydantic<3.0.0,>=2.7.4->langchain) (0.7.0)\n",
            "Requirement already satisfied: pydantic-core==2.33.2 in /usr/local/lib/python3.11/dist-packages (from pydantic<3.0.0,>=2.7.4->langchain) (2.33.2)\n",
            "Requirement already satisfied: typing-inspection>=0.4.0 in /usr/local/lib/python3.11/dist-packages (from pydantic<3.0.0,>=2.7.4->langchain) (0.4.1)\n",
            "Requirement already satisfied: charset-normalizer<4,>=2 in /usr/local/lib/python3.11/dist-packages (from requests<3,>=2->langchain) (3.4.2)\n",
            "Requirement already satisfied: idna<4,>=2.5 in /usr/local/lib/python3.11/dist-packages (from requests<3,>=2->langchain) (3.10)\n",
            "Requirement already satisfied: urllib3<3,>=1.21.1 in /usr/local/lib/python3.11/dist-packages (from requests<3,>=2->langchain) (2.4.0)\n",
            "Requirement already satisfied: certifi>=2017.4.17 in /usr/local/lib/python3.11/dist-packages (from requests<3,>=2->langchain) (2025.7.14)\n",
            "Requirement already satisfied: greenlet>=1 in /usr/local/lib/python3.11/dist-packages (from SQLAlchemy<3,>=1.4->langchain) (3.2.3)\n",
            "Requirement already satisfied: anyio in /usr/local/lib/python3.11/dist-packages (from httpx<1,>=0.23.0->langsmith>=0.1.17->langchain) (4.9.0)\n",
            "Requirement already satisfied: httpcore==1.* in /usr/local/lib/python3.11/dist-packages (from httpx<1,>=0.23.0->langsmith>=0.1.17->langchain) (1.0.9)\n",
            "Requirement already satisfied: h11>=0.16 in /usr/local/lib/python3.11/dist-packages (from httpcore==1.*->httpx<1,>=0.23.0->langsmith>=0.1.17->langchain) (0.16.0)\n",
            "Requirement already satisfied: jsonpointer>=1.9 in /usr/local/lib/python3.11/dist-packages (from jsonpatch<2.0,>=1.33->langchain-core<1.0.0,>=0.3.66->langchain) (3.0.0)\n",
            "Requirement already satisfied: sniffio>=1.1 in /usr/local/lib/python3.11/dist-packages (from anyio->httpx<1,>=0.23.0->langsmith>=0.1.17->langchain) (1.3.1)\n",
            "Collecting langchain_community\n",
            "  Downloading langchain_community-0.3.27-py3-none-any.whl.metadata (2.9 kB)\n",
            "Requirement already satisfied: langchain-core<1.0.0,>=0.3.66 in /usr/local/lib/python3.11/dist-packages (from langchain_community) (0.3.69)\n",
            "Requirement already satisfied: langchain<1.0.0,>=0.3.26 in /usr/local/lib/python3.11/dist-packages (from langchain_community) (0.3.26)\n",
            "Requirement already satisfied: SQLAlchemy<3,>=1.4 in /usr/local/lib/python3.11/dist-packages (from langchain_community) (2.0.41)\n",
            "Requirement already satisfied: requests<3,>=2 in /usr/local/lib/python3.11/dist-packages (from langchain_community) (2.32.3)\n",
            "Requirement already satisfied: PyYAML>=5.3 in /usr/local/lib/python3.11/dist-packages (from langchain_community) (6.0.2)\n",
            "Requirement already satisfied: aiohttp<4.0.0,>=3.8.3 in /usr/local/lib/python3.11/dist-packages (from langchain_community) (3.11.15)\n",
            "Requirement already satisfied: tenacity!=8.4.0,<10,>=8.1.0 in /usr/local/lib/python3.11/dist-packages (from langchain_community) (8.5.0)\n",
            "Collecting dataclasses-json<0.7,>=0.5.7 (from langchain_community)\n",
            "  Downloading dataclasses_json-0.6.7-py3-none-any.whl.metadata (25 kB)\n",
            "Collecting pydantic-settings<3.0.0,>=2.4.0 (from langchain_community)\n",
            "  Downloading pydantic_settings-2.10.1-py3-none-any.whl.metadata (3.4 kB)\n",
            "Requirement already satisfied: langsmith>=0.1.125 in /usr/local/lib/python3.11/dist-packages (from langchain_community) (0.4.6)\n",
            "Collecting httpx-sse<1.0.0,>=0.4.0 (from langchain_community)\n",
            "  Downloading httpx_sse-0.4.1-py3-none-any.whl.metadata (9.4 kB)\n",
            "Requirement already satisfied: numpy>=1.26.2 in /usr/local/lib/python3.11/dist-packages (from langchain_community) (2.0.2)\n",
            "Requirement already satisfied: aiohappyeyeballs>=2.3.0 in /usr/local/lib/python3.11/dist-packages (from aiohttp<4.0.0,>=3.8.3->langchain_community) (2.6.1)\n",
            "Requirement already satisfied: aiosignal>=1.1.2 in /usr/local/lib/python3.11/dist-packages (from aiohttp<4.0.0,>=3.8.3->langchain_community) (1.4.0)\n",
            "Requirement already satisfied: attrs>=17.3.0 in /usr/local/lib/python3.11/dist-packages (from aiohttp<4.0.0,>=3.8.3->langchain_community) (25.3.0)\n",
            "Requirement already satisfied: frozenlist>=1.1.1 in /usr/local/lib/python3.11/dist-packages (from aiohttp<4.0.0,>=3.8.3->langchain_community) (1.7.0)\n",
            "Requirement already satisfied: multidict<7.0,>=4.5 in /usr/local/lib/python3.11/dist-packages (from aiohttp<4.0.0,>=3.8.3->langchain_community) (6.6.3)\n",
            "Requirement already satisfied: propcache>=0.2.0 in /usr/local/lib/python3.11/dist-packages (from aiohttp<4.0.0,>=3.8.3->langchain_community) (0.3.2)\n",
            "Requirement already satisfied: yarl<2.0,>=1.17.0 in /usr/local/lib/python3.11/dist-packages (from aiohttp<4.0.0,>=3.8.3->langchain_community) (1.20.1)\n",
            "Collecting marshmallow<4.0.0,>=3.18.0 (from dataclasses-json<0.7,>=0.5.7->langchain_community)\n",
            "  Downloading marshmallow-3.26.1-py3-none-any.whl.metadata (7.3 kB)\n",
            "Collecting typing-inspect<1,>=0.4.0 (from dataclasses-json<0.7,>=0.5.7->langchain_community)\n",
            "  Downloading typing_inspect-0.9.0-py3-none-any.whl.metadata (1.5 kB)\n",
            "Requirement already satisfied: langchain-text-splitters<1.0.0,>=0.3.8 in /usr/local/lib/python3.11/dist-packages (from langchain<1.0.0,>=0.3.26->langchain_community) (0.3.8)\n",
            "Requirement already satisfied: pydantic<3.0.0,>=2.7.4 in /usr/local/lib/python3.11/dist-packages (from langchain<1.0.0,>=0.3.26->langchain_community) (2.11.7)\n",
            "Requirement already satisfied: jsonpatch<2.0,>=1.33 in /usr/local/lib/python3.11/dist-packages (from langchain-core<1.0.0,>=0.3.66->langchain_community) (1.33)\n",
            "Requirement already satisfied: typing-extensions>=4.7 in /usr/local/lib/python3.11/dist-packages (from langchain-core<1.0.0,>=0.3.66->langchain_community) (4.14.1)\n",
            "Requirement already satisfied: packaging>=23.2 in /usr/local/lib/python3.11/dist-packages (from langchain-core<1.0.0,>=0.3.66->langchain_community) (25.0)\n",
            "Requirement already satisfied: httpx<1,>=0.23.0 in /usr/local/lib/python3.11/dist-packages (from langsmith>=0.1.125->langchain_community) (0.28.1)\n",
            "Requirement already satisfied: orjson<4.0.0,>=3.9.14 in /usr/local/lib/python3.11/dist-packages (from langsmith>=0.1.125->langchain_community) (3.11.0)\n",
            "Requirement already satisfied: requests-toolbelt<2.0.0,>=1.0.0 in /usr/local/lib/python3.11/dist-packages (from langsmith>=0.1.125->langchain_community) (1.0.0)\n",
            "Requirement already satisfied: zstandard<0.24.0,>=0.23.0 in /usr/local/lib/python3.11/dist-packages (from langsmith>=0.1.125->langchain_community) (0.23.0)\n",
            "Collecting python-dotenv>=0.21.0 (from pydantic-settings<3.0.0,>=2.4.0->langchain_community)\n",
            "  Downloading python_dotenv-1.1.1-py3-none-any.whl.metadata (24 kB)\n",
            "Requirement already satisfied: typing-inspection>=0.4.0 in /usr/local/lib/python3.11/dist-packages (from pydantic-settings<3.0.0,>=2.4.0->langchain_community) (0.4.1)\n",
            "Requirement already satisfied: charset-normalizer<4,>=2 in /usr/local/lib/python3.11/dist-packages (from requests<3,>=2->langchain_community) (3.4.2)\n",
            "Requirement already satisfied: idna<4,>=2.5 in /usr/local/lib/python3.11/dist-packages (from requests<3,>=2->langchain_community) (3.10)\n",
            "Requirement already satisfied: urllib3<3,>=1.21.1 in /usr/local/lib/python3.11/dist-packages (from requests<3,>=2->langchain_community) (2.4.0)\n",
            "Requirement already satisfied: certifi>=2017.4.17 in /usr/local/lib/python3.11/dist-packages (from requests<3,>=2->langchain_community) (2025.7.14)\n",
            "Requirement already satisfied: greenlet>=1 in /usr/local/lib/python3.11/dist-packages (from SQLAlchemy<3,>=1.4->langchain_community) (3.2.3)\n",
            "Requirement already satisfied: anyio in /usr/local/lib/python3.11/dist-packages (from httpx<1,>=0.23.0->langsmith>=0.1.125->langchain_community) (4.9.0)\n",
            "Requirement already satisfied: httpcore==1.* in /usr/local/lib/python3.11/dist-packages (from httpx<1,>=0.23.0->langsmith>=0.1.125->langchain_community) (1.0.9)\n",
            "Requirement already satisfied: h11>=0.16 in /usr/local/lib/python3.11/dist-packages (from httpcore==1.*->httpx<1,>=0.23.0->langsmith>=0.1.125->langchain_community) (0.16.0)\n",
            "Requirement already satisfied: jsonpointer>=1.9 in /usr/local/lib/python3.11/dist-packages (from jsonpatch<2.0,>=1.33->langchain-core<1.0.0,>=0.3.66->langchain_community) (3.0.0)\n",
            "Requirement already satisfied: annotated-types>=0.6.0 in /usr/local/lib/python3.11/dist-packages (from pydantic<3.0.0,>=2.7.4->langchain<1.0.0,>=0.3.26->langchain_community) (0.7.0)\n",
            "Requirement already satisfied: pydantic-core==2.33.2 in /usr/local/lib/python3.11/dist-packages (from pydantic<3.0.0,>=2.7.4->langchain<1.0.0,>=0.3.26->langchain_community) (2.33.2)\n",
            "Collecting mypy-extensions>=0.3.0 (from typing-inspect<1,>=0.4.0->dataclasses-json<0.7,>=0.5.7->langchain_community)\n",
            "  Downloading mypy_extensions-1.1.0-py3-none-any.whl.metadata (1.1 kB)\n",
            "Requirement already satisfied: sniffio>=1.1 in /usr/local/lib/python3.11/dist-packages (from anyio->httpx<1,>=0.23.0->langsmith>=0.1.125->langchain_community) (1.3.1)\n",
            "Downloading langchain_community-0.3.27-py3-none-any.whl (2.5 MB)\n",
            "\u001b[2K   \u001b[90m━━━━━━━━━━━━━━━━━━━━━━━━━━━━━━━━━━━━━━━━\u001b[0m \u001b[32m2.5/2.5 MB\u001b[0m \u001b[31m27.9 MB/s\u001b[0m eta \u001b[36m0:00:00\u001b[0m\n",
            "\u001b[?25hDownloading dataclasses_json-0.6.7-py3-none-any.whl (28 kB)\n",
            "Downloading httpx_sse-0.4.1-py3-none-any.whl (8.1 kB)\n",
            "Downloading pydantic_settings-2.10.1-py3-none-any.whl (45 kB)\n",
            "\u001b[2K   \u001b[90m━━━━━━━━━━━━━━━━━━━━━━━━━━━━━━━━━━━━━━━━\u001b[0m \u001b[32m45.2/45.2 kB\u001b[0m \u001b[31m3.3 MB/s\u001b[0m eta \u001b[36m0:00:00\u001b[0m\n",
            "\u001b[?25hDownloading marshmallow-3.26.1-py3-none-any.whl (50 kB)\n",
            "\u001b[2K   \u001b[90m━━━━━━━━━━━━━━━━━━━━━━━━━━━━━━━━━━━━━━━━\u001b[0m \u001b[32m50.9/50.9 kB\u001b[0m \u001b[31m3.9 MB/s\u001b[0m eta \u001b[36m0:00:00\u001b[0m\n",
            "\u001b[?25hDownloading python_dotenv-1.1.1-py3-none-any.whl (20 kB)\n",
            "Downloading typing_inspect-0.9.0-py3-none-any.whl (8.8 kB)\n",
            "Downloading mypy_extensions-1.1.0-py3-none-any.whl (5.0 kB)\n",
            "Installing collected packages: python-dotenv, mypy-extensions, marshmallow, httpx-sse, typing-inspect, pydantic-settings, dataclasses-json, langchain_community\n",
            "Successfully installed dataclasses-json-0.6.7 httpx-sse-0.4.1 langchain_community-0.3.27 marshmallow-3.26.1 mypy-extensions-1.1.0 pydantic-settings-2.10.1 python-dotenv-1.1.1 typing-inspect-0.9.0\n",
            "Collecting langchain_openai\n",
            "  Downloading langchain_openai-0.3.28-py3-none-any.whl.metadata (2.3 kB)\n",
            "Requirement already satisfied: langchain-core<1.0.0,>=0.3.68 in /usr/local/lib/python3.11/dist-packages (from langchain_openai) (0.3.69)\n",
            "Requirement already satisfied: openai<2.0.0,>=1.86.0 in /usr/local/lib/python3.11/dist-packages (from langchain_openai) (1.96.1)\n",
            "Requirement already satisfied: tiktoken<1,>=0.7 in /usr/local/lib/python3.11/dist-packages (from langchain_openai) (0.9.0)\n",
            "Requirement already satisfied: langsmith>=0.3.45 in /usr/local/lib/python3.11/dist-packages (from langchain-core<1.0.0,>=0.3.68->langchain_openai) (0.4.6)\n",
            "Requirement already satisfied: tenacity!=8.4.0,<10.0.0,>=8.1.0 in /usr/local/lib/python3.11/dist-packages (from langchain-core<1.0.0,>=0.3.68->langchain_openai) (8.5.0)\n",
            "Requirement already satisfied: jsonpatch<2.0,>=1.33 in /usr/local/lib/python3.11/dist-packages (from langchain-core<1.0.0,>=0.3.68->langchain_openai) (1.33)\n",
            "Requirement already satisfied: PyYAML>=5.3 in /usr/local/lib/python3.11/dist-packages (from langchain-core<1.0.0,>=0.3.68->langchain_openai) (6.0.2)\n",
            "Requirement already satisfied: typing-extensions>=4.7 in /usr/local/lib/python3.11/dist-packages (from langchain-core<1.0.0,>=0.3.68->langchain_openai) (4.14.1)\n",
            "Requirement already satisfied: packaging>=23.2 in /usr/local/lib/python3.11/dist-packages (from langchain-core<1.0.0,>=0.3.68->langchain_openai) (25.0)\n",
            "Requirement already satisfied: pydantic>=2.7.4 in /usr/local/lib/python3.11/dist-packages (from langchain-core<1.0.0,>=0.3.68->langchain_openai) (2.11.7)\n",
            "Requirement already satisfied: anyio<5,>=3.5.0 in /usr/local/lib/python3.11/dist-packages (from openai<2.0.0,>=1.86.0->langchain_openai) (4.9.0)\n",
            "Requirement already satisfied: distro<2,>=1.7.0 in /usr/local/lib/python3.11/dist-packages (from openai<2.0.0,>=1.86.0->langchain_openai) (1.9.0)\n",
            "Requirement already satisfied: httpx<1,>=0.23.0 in /usr/local/lib/python3.11/dist-packages (from openai<2.0.0,>=1.86.0->langchain_openai) (0.28.1)\n",
            "Requirement already satisfied: jiter<1,>=0.4.0 in /usr/local/lib/python3.11/dist-packages (from openai<2.0.0,>=1.86.0->langchain_openai) (0.10.0)\n",
            "Requirement already satisfied: sniffio in /usr/local/lib/python3.11/dist-packages (from openai<2.0.0,>=1.86.0->langchain_openai) (1.3.1)\n",
            "Requirement already satisfied: tqdm>4 in /usr/local/lib/python3.11/dist-packages (from openai<2.0.0,>=1.86.0->langchain_openai) (4.67.1)\n",
            "Requirement already satisfied: regex>=2022.1.18 in /usr/local/lib/python3.11/dist-packages (from tiktoken<1,>=0.7->langchain_openai) (2024.11.6)\n",
            "Requirement already satisfied: requests>=2.26.0 in /usr/local/lib/python3.11/dist-packages (from tiktoken<1,>=0.7->langchain_openai) (2.32.3)\n",
            "Requirement already satisfied: idna>=2.8 in /usr/local/lib/python3.11/dist-packages (from anyio<5,>=3.5.0->openai<2.0.0,>=1.86.0->langchain_openai) (3.10)\n",
            "Requirement already satisfied: certifi in /usr/local/lib/python3.11/dist-packages (from httpx<1,>=0.23.0->openai<2.0.0,>=1.86.0->langchain_openai) (2025.7.14)\n",
            "Requirement already satisfied: httpcore==1.* in /usr/local/lib/python3.11/dist-packages (from httpx<1,>=0.23.0->openai<2.0.0,>=1.86.0->langchain_openai) (1.0.9)\n",
            "Requirement already satisfied: h11>=0.16 in /usr/local/lib/python3.11/dist-packages (from httpcore==1.*->httpx<1,>=0.23.0->openai<2.0.0,>=1.86.0->langchain_openai) (0.16.0)\n",
            "Requirement already satisfied: jsonpointer>=1.9 in /usr/local/lib/python3.11/dist-packages (from jsonpatch<2.0,>=1.33->langchain-core<1.0.0,>=0.3.68->langchain_openai) (3.0.0)\n",
            "Requirement already satisfied: orjson<4.0.0,>=3.9.14 in /usr/local/lib/python3.11/dist-packages (from langsmith>=0.3.45->langchain-core<1.0.0,>=0.3.68->langchain_openai) (3.11.0)\n",
            "Requirement already satisfied: requests-toolbelt<2.0.0,>=1.0.0 in /usr/local/lib/python3.11/dist-packages (from langsmith>=0.3.45->langchain-core<1.0.0,>=0.3.68->langchain_openai) (1.0.0)\n",
            "Requirement already satisfied: zstandard<0.24.0,>=0.23.0 in /usr/local/lib/python3.11/dist-packages (from langsmith>=0.3.45->langchain-core<1.0.0,>=0.3.68->langchain_openai) (0.23.0)\n",
            "Requirement already satisfied: annotated-types>=0.6.0 in /usr/local/lib/python3.11/dist-packages (from pydantic>=2.7.4->langchain-core<1.0.0,>=0.3.68->langchain_openai) (0.7.0)\n",
            "Requirement already satisfied: pydantic-core==2.33.2 in /usr/local/lib/python3.11/dist-packages (from pydantic>=2.7.4->langchain-core<1.0.0,>=0.3.68->langchain_openai) (2.33.2)\n",
            "Requirement already satisfied: typing-inspection>=0.4.0 in /usr/local/lib/python3.11/dist-packages (from pydantic>=2.7.4->langchain-core<1.0.0,>=0.3.68->langchain_openai) (0.4.1)\n",
            "Requirement already satisfied: charset-normalizer<4,>=2 in /usr/local/lib/python3.11/dist-packages (from requests>=2.26.0->tiktoken<1,>=0.7->langchain_openai) (3.4.2)\n",
            "Requirement already satisfied: urllib3<3,>=1.21.1 in /usr/local/lib/python3.11/dist-packages (from requests>=2.26.0->tiktoken<1,>=0.7->langchain_openai) (2.4.0)\n",
            "Downloading langchain_openai-0.3.28-py3-none-any.whl (70 kB)\n",
            "\u001b[2K   \u001b[90m━━━━━━━━━━━━━━━━━━━━━━━━━━━━━━━━━━━━━━━━\u001b[0m \u001b[32m70.6/70.6 kB\u001b[0m \u001b[31m1.8 MB/s\u001b[0m eta \u001b[36m0:00:00\u001b[0m\n",
            "\u001b[?25hInstalling collected packages: langchain_openai\n",
            "Successfully installed langchain_openai-0.3.28\n",
            "Requirement already satisfied: langchain_text_splitters in /usr/local/lib/python3.11/dist-packages (0.3.8)\n",
            "Requirement already satisfied: langchain-core<1.0.0,>=0.3.51 in /usr/local/lib/python3.11/dist-packages (from langchain_text_splitters) (0.3.69)\n",
            "Requirement already satisfied: langsmith>=0.3.45 in /usr/local/lib/python3.11/dist-packages (from langchain-core<1.0.0,>=0.3.51->langchain_text_splitters) (0.4.6)\n",
            "Requirement already satisfied: tenacity!=8.4.0,<10.0.0,>=8.1.0 in /usr/local/lib/python3.11/dist-packages (from langchain-core<1.0.0,>=0.3.51->langchain_text_splitters) (8.5.0)\n",
            "Requirement already satisfied: jsonpatch<2.0,>=1.33 in /usr/local/lib/python3.11/dist-packages (from langchain-core<1.0.0,>=0.3.51->langchain_text_splitters) (1.33)\n",
            "Requirement already satisfied: PyYAML>=5.3 in /usr/local/lib/python3.11/dist-packages (from langchain-core<1.0.0,>=0.3.51->langchain_text_splitters) (6.0.2)\n",
            "Requirement already satisfied: typing-extensions>=4.7 in /usr/local/lib/python3.11/dist-packages (from langchain-core<1.0.0,>=0.3.51->langchain_text_splitters) (4.14.1)\n",
            "Requirement already satisfied: packaging>=23.2 in /usr/local/lib/python3.11/dist-packages (from langchain-core<1.0.0,>=0.3.51->langchain_text_splitters) (25.0)\n",
            "Requirement already satisfied: pydantic>=2.7.4 in /usr/local/lib/python3.11/dist-packages (from langchain-core<1.0.0,>=0.3.51->langchain_text_splitters) (2.11.7)\n",
            "Requirement already satisfied: jsonpointer>=1.9 in /usr/local/lib/python3.11/dist-packages (from jsonpatch<2.0,>=1.33->langchain-core<1.0.0,>=0.3.51->langchain_text_splitters) (3.0.0)\n",
            "Requirement already satisfied: httpx<1,>=0.23.0 in /usr/local/lib/python3.11/dist-packages (from langsmith>=0.3.45->langchain-core<1.0.0,>=0.3.51->langchain_text_splitters) (0.28.1)\n",
            "Requirement already satisfied: orjson<4.0.0,>=3.9.14 in /usr/local/lib/python3.11/dist-packages (from langsmith>=0.3.45->langchain-core<1.0.0,>=0.3.51->langchain_text_splitters) (3.11.0)\n",
            "Requirement already satisfied: requests<3,>=2 in /usr/local/lib/python3.11/dist-packages (from langsmith>=0.3.45->langchain-core<1.0.0,>=0.3.51->langchain_text_splitters) (2.32.3)\n",
            "Requirement already satisfied: requests-toolbelt<2.0.0,>=1.0.0 in /usr/local/lib/python3.11/dist-packages (from langsmith>=0.3.45->langchain-core<1.0.0,>=0.3.51->langchain_text_splitters) (1.0.0)\n",
            "Requirement already satisfied: zstandard<0.24.0,>=0.23.0 in /usr/local/lib/python3.11/dist-packages (from langsmith>=0.3.45->langchain-core<1.0.0,>=0.3.51->langchain_text_splitters) (0.23.0)\n",
            "Requirement already satisfied: annotated-types>=0.6.0 in /usr/local/lib/python3.11/dist-packages (from pydantic>=2.7.4->langchain-core<1.0.0,>=0.3.51->langchain_text_splitters) (0.7.0)\n",
            "Requirement already satisfied: pydantic-core==2.33.2 in /usr/local/lib/python3.11/dist-packages (from pydantic>=2.7.4->langchain-core<1.0.0,>=0.3.51->langchain_text_splitters) (2.33.2)\n",
            "Requirement already satisfied: typing-inspection>=0.4.0 in /usr/local/lib/python3.11/dist-packages (from pydantic>=2.7.4->langchain-core<1.0.0,>=0.3.51->langchain_text_splitters) (0.4.1)\n",
            "Requirement already satisfied: anyio in /usr/local/lib/python3.11/dist-packages (from httpx<1,>=0.23.0->langsmith>=0.3.45->langchain-core<1.0.0,>=0.3.51->langchain_text_splitters) (4.9.0)\n",
            "Requirement already satisfied: certifi in /usr/local/lib/python3.11/dist-packages (from httpx<1,>=0.23.0->langsmith>=0.3.45->langchain-core<1.0.0,>=0.3.51->langchain_text_splitters) (2025.7.14)\n",
            "Requirement already satisfied: httpcore==1.* in /usr/local/lib/python3.11/dist-packages (from httpx<1,>=0.23.0->langsmith>=0.3.45->langchain-core<1.0.0,>=0.3.51->langchain_text_splitters) (1.0.9)\n",
            "Requirement already satisfied: idna in /usr/local/lib/python3.11/dist-packages (from httpx<1,>=0.23.0->langsmith>=0.3.45->langchain-core<1.0.0,>=0.3.51->langchain_text_splitters) (3.10)\n",
            "Requirement already satisfied: h11>=0.16 in /usr/local/lib/python3.11/dist-packages (from httpcore==1.*->httpx<1,>=0.23.0->langsmith>=0.3.45->langchain-core<1.0.0,>=0.3.51->langchain_text_splitters) (0.16.0)\n",
            "Requirement already satisfied: charset-normalizer<4,>=2 in /usr/local/lib/python3.11/dist-packages (from requests<3,>=2->langsmith>=0.3.45->langchain-core<1.0.0,>=0.3.51->langchain_text_splitters) (3.4.2)\n",
            "Requirement already satisfied: urllib3<3,>=1.21.1 in /usr/local/lib/python3.11/dist-packages (from requests<3,>=2->langsmith>=0.3.45->langchain-core<1.0.0,>=0.3.51->langchain_text_splitters) (2.4.0)\n",
            "Requirement already satisfied: sniffio>=1.1 in /usr/local/lib/python3.11/dist-packages (from anyio->httpx<1,>=0.23.0->langsmith>=0.3.45->langchain-core<1.0.0,>=0.3.51->langchain_text_splitters) (1.3.1)\n",
            "Collecting pymupdf\n",
            "  Downloading pymupdf-1.26.3-cp39-abi3-manylinux_2_28_x86_64.whl.metadata (3.4 kB)\n",
            "Downloading pymupdf-1.26.3-cp39-abi3-manylinux_2_28_x86_64.whl (24.1 MB)\n",
            "\u001b[2K   \u001b[90m━━━━━━━━━━━━━━━━━━━━━━━━━━━━━━━━━━━━━━━━\u001b[0m \u001b[32m24.1/24.1 MB\u001b[0m \u001b[31m53.5 MB/s\u001b[0m eta \u001b[36m0:00:00\u001b[0m\n",
            "\u001b[?25hInstalling collected packages: pymupdf\n",
            "Successfully installed pymupdf-1.26.3\n",
            "Collecting langchain_chroma\n",
            "  Downloading langchain_chroma-0.2.4-py3-none-any.whl.metadata (1.1 kB)\n",
            "Requirement already satisfied: langchain-core>=0.3.60 in /usr/local/lib/python3.11/dist-packages (from langchain_chroma) (0.3.69)\n",
            "Requirement already satisfied: numpy>=1.26.0 in /usr/local/lib/python3.11/dist-packages (from langchain_chroma) (2.0.2)\n",
            "Collecting chromadb>=1.0.9 (from langchain_chroma)\n",
            "  Downloading chromadb-1.0.15-cp39-abi3-manylinux_2_17_x86_64.manylinux2014_x86_64.whl.metadata (7.0 kB)\n",
            "Requirement already satisfied: build>=1.0.3 in /usr/local/lib/python3.11/dist-packages (from chromadb>=1.0.9->langchain_chroma) (1.2.2.post1)\n",
            "Requirement already satisfied: pydantic>=1.9 in /usr/local/lib/python3.11/dist-packages (from chromadb>=1.0.9->langchain_chroma) (2.11.7)\n",
            "Collecting pybase64>=1.4.1 (from chromadb>=1.0.9->langchain_chroma)\n",
            "  Downloading pybase64-1.4.1-cp311-cp311-manylinux_2_5_x86_64.manylinux1_x86_64.manylinux_2_17_x86_64.manylinux2014_x86_64.whl.metadata (8.4 kB)\n",
            "Requirement already satisfied: uvicorn>=0.18.3 in /usr/local/lib/python3.11/dist-packages (from uvicorn[standard]>=0.18.3->chromadb>=1.0.9->langchain_chroma) (0.35.0)\n",
            "Collecting posthog<6.0.0,>=2.4.0 (from chromadb>=1.0.9->langchain_chroma)\n",
            "  Downloading posthog-5.4.0-py3-none-any.whl.metadata (5.7 kB)\n",
            "Requirement already satisfied: typing-extensions>=4.5.0 in /usr/local/lib/python3.11/dist-packages (from chromadb>=1.0.9->langchain_chroma) (4.14.1)\n",
            "Collecting onnxruntime>=1.14.1 (from chromadb>=1.0.9->langchain_chroma)\n",
            "  Downloading onnxruntime-1.22.1-cp311-cp311-manylinux_2_27_x86_64.manylinux_2_28_x86_64.whl.metadata (4.6 kB)\n",
            "Collecting opentelemetry-api>=1.2.0 (from chromadb>=1.0.9->langchain_chroma)\n",
            "  Downloading opentelemetry_api-1.35.0-py3-none-any.whl.metadata (1.5 kB)\n",
            "Collecting opentelemetry-exporter-otlp-proto-grpc>=1.2.0 (from chromadb>=1.0.9->langchain_chroma)\n",
            "  Downloading opentelemetry_exporter_otlp_proto_grpc-1.35.0-py3-none-any.whl.metadata (2.4 kB)\n",
            "Collecting opentelemetry-sdk>=1.2.0 (from chromadb>=1.0.9->langchain_chroma)\n",
            "  Downloading opentelemetry_sdk-1.35.0-py3-none-any.whl.metadata (1.5 kB)\n",
            "Requirement already satisfied: tokenizers>=0.13.2 in /usr/local/lib/python3.11/dist-packages (from chromadb>=1.0.9->langchain_chroma) (0.21.2)\n",
            "Collecting pypika>=0.48.9 (from chromadb>=1.0.9->langchain_chroma)\n",
            "  Downloading PyPika-0.48.9.tar.gz (67 kB)\n",
            "\u001b[2K     \u001b[90m━━━━━━━━━━━━━━━━━━━━━━━━━━━━━━━━━━━━━━━━\u001b[0m \u001b[32m67.3/67.3 kB\u001b[0m \u001b[31m1.6 MB/s\u001b[0m eta \u001b[36m0:00:00\u001b[0m\n",
            "\u001b[?25h  Installing build dependencies ... \u001b[?25l\u001b[?25hdone\n",
            "  Getting requirements to build wheel ... \u001b[?25l\u001b[?25hdone\n",
            "  Preparing metadata (pyproject.toml) ... \u001b[?25l\u001b[?25hdone\n",
            "Requirement already satisfied: tqdm>=4.65.0 in /usr/local/lib/python3.11/dist-packages (from chromadb>=1.0.9->langchain_chroma) (4.67.1)\n",
            "Collecting overrides>=7.3.1 (from chromadb>=1.0.9->langchain_chroma)\n",
            "  Downloading overrides-7.7.0-py3-none-any.whl.metadata (5.8 kB)\n",
            "Requirement already satisfied: importlib-resources in /usr/local/lib/python3.11/dist-packages (from chromadb>=1.0.9->langchain_chroma) (6.5.2)\n",
            "Requirement already satisfied: grpcio>=1.58.0 in /usr/local/lib/python3.11/dist-packages (from chromadb>=1.0.9->langchain_chroma) (1.73.1)\n",
            "Collecting bcrypt>=4.0.1 (from chromadb>=1.0.9->langchain_chroma)\n",
            "  Downloading bcrypt-4.3.0-cp39-abi3-manylinux_2_34_x86_64.whl.metadata (10 kB)\n",
            "Requirement already satisfied: typer>=0.9.0 in /usr/local/lib/python3.11/dist-packages (from chromadb>=1.0.9->langchain_chroma) (0.16.0)\n",
            "Collecting kubernetes>=28.1.0 (from chromadb>=1.0.9->langchain_chroma)\n",
            "  Downloading kubernetes-33.1.0-py2.py3-none-any.whl.metadata (1.7 kB)\n",
            "Requirement already satisfied: tenacity>=8.2.3 in /usr/local/lib/python3.11/dist-packages (from chromadb>=1.0.9->langchain_chroma) (8.5.0)\n",
            "Requirement already satisfied: pyyaml>=6.0.0 in /usr/local/lib/python3.11/dist-packages (from chromadb>=1.0.9->langchain_chroma) (6.0.2)\n",
            "Collecting mmh3>=4.0.1 (from chromadb>=1.0.9->langchain_chroma)\n",
            "  Downloading mmh3-5.1.0-cp311-cp311-manylinux_2_5_x86_64.manylinux1_x86_64.manylinux_2_17_x86_64.manylinux2014_x86_64.whl.metadata (16 kB)\n",
            "Requirement already satisfied: orjson>=3.9.12 in /usr/local/lib/python3.11/dist-packages (from chromadb>=1.0.9->langchain_chroma) (3.11.0)\n",
            "Requirement already satisfied: httpx>=0.27.0 in /usr/local/lib/python3.11/dist-packages (from chromadb>=1.0.9->langchain_chroma) (0.28.1)\n",
            "Requirement already satisfied: rich>=10.11.0 in /usr/local/lib/python3.11/dist-packages (from chromadb>=1.0.9->langchain_chroma) (13.9.4)\n",
            "Requirement already satisfied: jsonschema>=4.19.0 in /usr/local/lib/python3.11/dist-packages (from chromadb>=1.0.9->langchain_chroma) (4.24.0)\n",
            "Requirement already satisfied: langsmith>=0.3.45 in /usr/local/lib/python3.11/dist-packages (from langchain-core>=0.3.60->langchain_chroma) (0.4.6)\n",
            "Requirement already satisfied: jsonpatch<2.0,>=1.33 in /usr/local/lib/python3.11/dist-packages (from langchain-core>=0.3.60->langchain_chroma) (1.33)\n",
            "Requirement already satisfied: packaging>=23.2 in /usr/local/lib/python3.11/dist-packages (from langchain-core>=0.3.60->langchain_chroma) (25.0)\n",
            "Requirement already satisfied: pyproject_hooks in /usr/local/lib/python3.11/dist-packages (from build>=1.0.3->chromadb>=1.0.9->langchain_chroma) (1.2.0)\n",
            "Requirement already satisfied: anyio in /usr/local/lib/python3.11/dist-packages (from httpx>=0.27.0->chromadb>=1.0.9->langchain_chroma) (4.9.0)\n",
            "Requirement already satisfied: certifi in /usr/local/lib/python3.11/dist-packages (from httpx>=0.27.0->chromadb>=1.0.9->langchain_chroma) (2025.7.14)\n",
            "Requirement already satisfied: httpcore==1.* in /usr/local/lib/python3.11/dist-packages (from httpx>=0.27.0->chromadb>=1.0.9->langchain_chroma) (1.0.9)\n",
            "Requirement already satisfied: idna in /usr/local/lib/python3.11/dist-packages (from httpx>=0.27.0->chromadb>=1.0.9->langchain_chroma) (3.10)\n",
            "Requirement already satisfied: h11>=0.16 in /usr/local/lib/python3.11/dist-packages (from httpcore==1.*->httpx>=0.27.0->chromadb>=1.0.9->langchain_chroma) (0.16.0)\n",
            "Requirement already satisfied: jsonpointer>=1.9 in /usr/local/lib/python3.11/dist-packages (from jsonpatch<2.0,>=1.33->langchain-core>=0.3.60->langchain_chroma) (3.0.0)\n",
            "Requirement already satisfied: attrs>=22.2.0 in /usr/local/lib/python3.11/dist-packages (from jsonschema>=4.19.0->chromadb>=1.0.9->langchain_chroma) (25.3.0)\n",
            "Requirement already satisfied: jsonschema-specifications>=2023.03.6 in /usr/local/lib/python3.11/dist-packages (from jsonschema>=4.19.0->chromadb>=1.0.9->langchain_chroma) (2025.4.1)\n",
            "Requirement already satisfied: referencing>=0.28.4 in /usr/local/lib/python3.11/dist-packages (from jsonschema>=4.19.0->chromadb>=1.0.9->langchain_chroma) (0.36.2)\n",
            "Requirement already satisfied: rpds-py>=0.7.1 in /usr/local/lib/python3.11/dist-packages (from jsonschema>=4.19.0->chromadb>=1.0.9->langchain_chroma) (0.26.0)\n",
            "Requirement already satisfied: six>=1.9.0 in /usr/local/lib/python3.11/dist-packages (from kubernetes>=28.1.0->chromadb>=1.0.9->langchain_chroma) (1.17.0)\n",
            "Requirement already satisfied: python-dateutil>=2.5.3 in /usr/local/lib/python3.11/dist-packages (from kubernetes>=28.1.0->chromadb>=1.0.9->langchain_chroma) (2.9.0.post0)\n",
            "Requirement already satisfied: google-auth>=1.0.1 in /usr/local/lib/python3.11/dist-packages (from kubernetes>=28.1.0->chromadb>=1.0.9->langchain_chroma) (2.38.0)\n",
            "Requirement already satisfied: websocket-client!=0.40.0,!=0.41.*,!=0.42.*,>=0.32.0 in /usr/local/lib/python3.11/dist-packages (from kubernetes>=28.1.0->chromadb>=1.0.9->langchain_chroma) (1.8.0)\n",
            "Requirement already satisfied: requests in /usr/local/lib/python3.11/dist-packages (from kubernetes>=28.1.0->chromadb>=1.0.9->langchain_chroma) (2.32.3)\n",
            "Requirement already satisfied: requests-oauthlib in /usr/local/lib/python3.11/dist-packages (from kubernetes>=28.1.0->chromadb>=1.0.9->langchain_chroma) (2.0.0)\n",
            "Requirement already satisfied: oauthlib>=3.2.2 in /usr/local/lib/python3.11/dist-packages (from kubernetes>=28.1.0->chromadb>=1.0.9->langchain_chroma) (3.3.1)\n",
            "Requirement already satisfied: urllib3>=1.24.2 in /usr/local/lib/python3.11/dist-packages (from kubernetes>=28.1.0->chromadb>=1.0.9->langchain_chroma) (2.4.0)\n",
            "Collecting durationpy>=0.7 (from kubernetes>=28.1.0->chromadb>=1.0.9->langchain_chroma)\n",
            "  Downloading durationpy-0.10-py3-none-any.whl.metadata (340 bytes)\n",
            "Requirement already satisfied: requests-toolbelt<2.0.0,>=1.0.0 in /usr/local/lib/python3.11/dist-packages (from langsmith>=0.3.45->langchain-core>=0.3.60->langchain_chroma) (1.0.0)\n",
            "Requirement already satisfied: zstandard<0.24.0,>=0.23.0 in /usr/local/lib/python3.11/dist-packages (from langsmith>=0.3.45->langchain-core>=0.3.60->langchain_chroma) (0.23.0)\n",
            "Collecting coloredlogs (from onnxruntime>=1.14.1->chromadb>=1.0.9->langchain_chroma)\n",
            "  Downloading coloredlogs-15.0.1-py2.py3-none-any.whl.metadata (12 kB)\n",
            "Requirement already satisfied: flatbuffers in /usr/local/lib/python3.11/dist-packages (from onnxruntime>=1.14.1->chromadb>=1.0.9->langchain_chroma) (25.2.10)\n",
            "Requirement already satisfied: protobuf in /usr/local/lib/python3.11/dist-packages (from onnxruntime>=1.14.1->chromadb>=1.0.9->langchain_chroma) (5.29.5)\n",
            "Requirement already satisfied: sympy in /usr/local/lib/python3.11/dist-packages (from onnxruntime>=1.14.1->chromadb>=1.0.9->langchain_chroma) (1.13.1)\n",
            "Requirement already satisfied: importlib-metadata<8.8.0,>=6.0 in /usr/local/lib/python3.11/dist-packages (from opentelemetry-api>=1.2.0->chromadb>=1.0.9->langchain_chroma) (8.7.0)\n",
            "Requirement already satisfied: googleapis-common-protos~=1.57 in /usr/local/lib/python3.11/dist-packages (from opentelemetry-exporter-otlp-proto-grpc>=1.2.0->chromadb>=1.0.9->langchain_chroma) (1.70.0)\n",
            "Collecting opentelemetry-exporter-otlp-proto-common==1.35.0 (from opentelemetry-exporter-otlp-proto-grpc>=1.2.0->chromadb>=1.0.9->langchain_chroma)\n",
            "  Downloading opentelemetry_exporter_otlp_proto_common-1.35.0-py3-none-any.whl.metadata (1.8 kB)\n",
            "Collecting opentelemetry-proto==1.35.0 (from opentelemetry-exporter-otlp-proto-grpc>=1.2.0->chromadb>=1.0.9->langchain_chroma)\n",
            "  Downloading opentelemetry_proto-1.35.0-py3-none-any.whl.metadata (2.3 kB)\n",
            "Collecting opentelemetry-semantic-conventions==0.56b0 (from opentelemetry-sdk>=1.2.0->chromadb>=1.0.9->langchain_chroma)\n",
            "  Downloading opentelemetry_semantic_conventions-0.56b0-py3-none-any.whl.metadata (2.4 kB)\n",
            "Collecting backoff>=1.10.0 (from posthog<6.0.0,>=2.4.0->chromadb>=1.0.9->langchain_chroma)\n",
            "  Downloading backoff-2.2.1-py3-none-any.whl.metadata (14 kB)\n",
            "Requirement already satisfied: distro>=1.5.0 in /usr/local/lib/python3.11/dist-packages (from posthog<6.0.0,>=2.4.0->chromadb>=1.0.9->langchain_chroma) (1.9.0)\n",
            "Requirement already satisfied: annotated-types>=0.6.0 in /usr/local/lib/python3.11/dist-packages (from pydantic>=1.9->chromadb>=1.0.9->langchain_chroma) (0.7.0)\n",
            "Requirement already satisfied: pydantic-core==2.33.2 in /usr/local/lib/python3.11/dist-packages (from pydantic>=1.9->chromadb>=1.0.9->langchain_chroma) (2.33.2)\n",
            "Requirement already satisfied: typing-inspection>=0.4.0 in /usr/local/lib/python3.11/dist-packages (from pydantic>=1.9->chromadb>=1.0.9->langchain_chroma) (0.4.1)\n",
            "Requirement already satisfied: markdown-it-py>=2.2.0 in /usr/local/lib/python3.11/dist-packages (from rich>=10.11.0->chromadb>=1.0.9->langchain_chroma) (3.0.0)\n",
            "Requirement already satisfied: pygments<3.0.0,>=2.13.0 in /usr/local/lib/python3.11/dist-packages (from rich>=10.11.0->chromadb>=1.0.9->langchain_chroma) (2.19.2)\n",
            "Requirement already satisfied: huggingface-hub<1.0,>=0.16.4 in /usr/local/lib/python3.11/dist-packages (from tokenizers>=0.13.2->chromadb>=1.0.9->langchain_chroma) (0.33.4)\n",
            "Requirement already satisfied: click>=8.0.0 in /usr/local/lib/python3.11/dist-packages (from typer>=0.9.0->chromadb>=1.0.9->langchain_chroma) (8.2.1)\n",
            "Requirement already satisfied: shellingham>=1.3.0 in /usr/local/lib/python3.11/dist-packages (from typer>=0.9.0->chromadb>=1.0.9->langchain_chroma) (1.5.4)\n",
            "Collecting httptools>=0.6.3 (from uvicorn[standard]>=0.18.3->chromadb>=1.0.9->langchain_chroma)\n",
            "  Downloading httptools-0.6.4-cp311-cp311-manylinux_2_5_x86_64.manylinux1_x86_64.manylinux_2_17_x86_64.manylinux2014_x86_64.whl.metadata (3.6 kB)\n",
            "Requirement already satisfied: python-dotenv>=0.13 in /usr/local/lib/python3.11/dist-packages (from uvicorn[standard]>=0.18.3->chromadb>=1.0.9->langchain_chroma) (1.1.1)\n",
            "Collecting uvloop>=0.15.1 (from uvicorn[standard]>=0.18.3->chromadb>=1.0.9->langchain_chroma)\n",
            "  Downloading uvloop-0.21.0-cp311-cp311-manylinux_2_17_x86_64.manylinux2014_x86_64.whl.metadata (4.9 kB)\n",
            "Collecting watchfiles>=0.13 (from uvicorn[standard]>=0.18.3->chromadb>=1.0.9->langchain_chroma)\n",
            "  Downloading watchfiles-1.1.0-cp311-cp311-manylinux_2_17_x86_64.manylinux2014_x86_64.whl.metadata (4.9 kB)\n",
            "Requirement already satisfied: websockets>=10.4 in /usr/local/lib/python3.11/dist-packages (from uvicorn[standard]>=0.18.3->chromadb>=1.0.9->langchain_chroma) (15.0.1)\n",
            "Requirement already satisfied: cachetools<6.0,>=2.0.0 in /usr/local/lib/python3.11/dist-packages (from google-auth>=1.0.1->kubernetes>=28.1.0->chromadb>=1.0.9->langchain_chroma) (5.5.2)\n",
            "Requirement already satisfied: pyasn1-modules>=0.2.1 in /usr/local/lib/python3.11/dist-packages (from google-auth>=1.0.1->kubernetes>=28.1.0->chromadb>=1.0.9->langchain_chroma) (0.4.2)\n",
            "Requirement already satisfied: rsa<5,>=3.1.4 in /usr/local/lib/python3.11/dist-packages (from google-auth>=1.0.1->kubernetes>=28.1.0->chromadb>=1.0.9->langchain_chroma) (4.9.1)\n",
            "Requirement already satisfied: filelock in /usr/local/lib/python3.11/dist-packages (from huggingface-hub<1.0,>=0.16.4->tokenizers>=0.13.2->chromadb>=1.0.9->langchain_chroma) (3.18.0)\n",
            "Requirement already satisfied: fsspec>=2023.5.0 in /usr/local/lib/python3.11/dist-packages (from huggingface-hub<1.0,>=0.16.4->tokenizers>=0.13.2->chromadb>=1.0.9->langchain_chroma) (2025.3.2)\n",
            "Requirement already satisfied: hf-xet<2.0.0,>=1.1.2 in /usr/local/lib/python3.11/dist-packages (from huggingface-hub<1.0,>=0.16.4->tokenizers>=0.13.2->chromadb>=1.0.9->langchain_chroma) (1.1.5)\n",
            "Requirement already satisfied: zipp>=3.20 in /usr/local/lib/python3.11/dist-packages (from importlib-metadata<8.8.0,>=6.0->opentelemetry-api>=1.2.0->chromadb>=1.0.9->langchain_chroma) (3.23.0)\n",
            "Requirement already satisfied: mdurl~=0.1 in /usr/local/lib/python3.11/dist-packages (from markdown-it-py>=2.2.0->rich>=10.11.0->chromadb>=1.0.9->langchain_chroma) (0.1.2)\n",
            "Requirement already satisfied: charset-normalizer<4,>=2 in /usr/local/lib/python3.11/dist-packages (from requests->kubernetes>=28.1.0->chromadb>=1.0.9->langchain_chroma) (3.4.2)\n",
            "Requirement already satisfied: sniffio>=1.1 in /usr/local/lib/python3.11/dist-packages (from anyio->httpx>=0.27.0->chromadb>=1.0.9->langchain_chroma) (1.3.1)\n",
            "Collecting humanfriendly>=9.1 (from coloredlogs->onnxruntime>=1.14.1->chromadb>=1.0.9->langchain_chroma)\n",
            "  Downloading humanfriendly-10.0-py2.py3-none-any.whl.metadata (9.2 kB)\n",
            "Requirement already satisfied: mpmath<1.4,>=1.1.0 in /usr/local/lib/python3.11/dist-packages (from sympy->onnxruntime>=1.14.1->chromadb>=1.0.9->langchain_chroma) (1.3.0)\n",
            "Requirement already satisfied: pyasn1<0.7.0,>=0.6.1 in /usr/local/lib/python3.11/dist-packages (from pyasn1-modules>=0.2.1->google-auth>=1.0.1->kubernetes>=28.1.0->chromadb>=1.0.9->langchain_chroma) (0.6.1)\n",
            "Downloading langchain_chroma-0.2.4-py3-none-any.whl (11 kB)\n",
            "Downloading chromadb-1.0.15-cp39-abi3-manylinux_2_17_x86_64.manylinux2014_x86_64.whl (19.5 MB)\n",
            "\u001b[2K   \u001b[90m━━━━━━━━━━━━━━━━━━━━━━━━━━━━━━━━━━━━━━━━\u001b[0m \u001b[32m19.5/19.5 MB\u001b[0m \u001b[31m69.3 MB/s\u001b[0m eta \u001b[36m0:00:00\u001b[0m\n",
            "\u001b[?25hDownloading bcrypt-4.3.0-cp39-abi3-manylinux_2_34_x86_64.whl (284 kB)\n",
            "\u001b[2K   \u001b[90m━━━━━━━━━━━━━━━━━━━━━━━━━━━━━━━━━━━━━━━━\u001b[0m \u001b[32m284.2/284.2 kB\u001b[0m \u001b[31m15.6 MB/s\u001b[0m eta \u001b[36m0:00:00\u001b[0m\n",
            "\u001b[?25hDownloading kubernetes-33.1.0-py2.py3-none-any.whl (1.9 MB)\n",
            "\u001b[2K   \u001b[90m━━━━━━━━━━━━━━━━━━━━━━━━━━━━━━━━━━━━━━━━\u001b[0m \u001b[32m1.9/1.9 MB\u001b[0m \u001b[31m53.5 MB/s\u001b[0m eta \u001b[36m0:00:00\u001b[0m\n",
            "\u001b[?25hDownloading mmh3-5.1.0-cp311-cp311-manylinux_2_5_x86_64.manylinux1_x86_64.manylinux_2_17_x86_64.manylinux2014_x86_64.whl (101 kB)\n",
            "\u001b[2K   \u001b[90m━━━━━━━━━━━━━━━━━━━━━━━━━━━━━━━━━━━━━━━━\u001b[0m \u001b[32m101.6/101.6 kB\u001b[0m \u001b[31m6.5 MB/s\u001b[0m eta \u001b[36m0:00:00\u001b[0m\n",
            "\u001b[?25hDownloading onnxruntime-1.22.1-cp311-cp311-manylinux_2_27_x86_64.manylinux_2_28_x86_64.whl (16.5 MB)\n",
            "\u001b[2K   \u001b[90m━━━━━━━━━━━━━━━━━━━━━━━━━━━━━━━━━━━━━━━━\u001b[0m \u001b[32m16.5/16.5 MB\u001b[0m \u001b[31m69.7 MB/s\u001b[0m eta \u001b[36m0:00:00\u001b[0m\n",
            "\u001b[?25hDownloading opentelemetry_api-1.35.0-py3-none-any.whl (65 kB)\n",
            "\u001b[2K   \u001b[90m━━━━━━━━━━━━━━━━━━━━━━━━━━━━━━━━━━━━━━━━\u001b[0m \u001b[32m65.6/65.6 kB\u001b[0m \u001b[31m4.2 MB/s\u001b[0m eta \u001b[36m0:00:00\u001b[0m\n",
            "\u001b[?25hDownloading opentelemetry_exporter_otlp_proto_grpc-1.35.0-py3-none-any.whl (18 kB)\n",
            "Downloading opentelemetry_exporter_otlp_proto_common-1.35.0-py3-none-any.whl (18 kB)\n",
            "Downloading opentelemetry_proto-1.35.0-py3-none-any.whl (72 kB)\n",
            "\u001b[2K   \u001b[90m━━━━━━━━━━━━━━━━━━━━━━━━━━━━━━━━━━━━━━━━\u001b[0m \u001b[32m72.5/72.5 kB\u001b[0m \u001b[31m4.0 MB/s\u001b[0m eta \u001b[36m0:00:00\u001b[0m\n",
            "\u001b[?25hDownloading opentelemetry_sdk-1.35.0-py3-none-any.whl (119 kB)\n",
            "\u001b[2K   \u001b[90m━━━━━━━━━━━━━━━━━━━━━━━━━━━━━━━━━━━━━━━━\u001b[0m \u001b[32m119.4/119.4 kB\u001b[0m \u001b[31m7.3 MB/s\u001b[0m eta \u001b[36m0:00:00\u001b[0m\n",
            "\u001b[?25hDownloading opentelemetry_semantic_conventions-0.56b0-py3-none-any.whl (201 kB)\n",
            "\u001b[2K   \u001b[90m━━━━━━━━━━━━━━━━━━━━━━━━━━━━━━━━━━━━━━━━\u001b[0m \u001b[32m201.6/201.6 kB\u001b[0m \u001b[31m11.9 MB/s\u001b[0m eta \u001b[36m0:00:00\u001b[0m\n",
            "\u001b[?25hDownloading overrides-7.7.0-py3-none-any.whl (17 kB)\n",
            "Downloading posthog-5.4.0-py3-none-any.whl (105 kB)\n",
            "\u001b[2K   \u001b[90m━━━━━━━━━━━━━━━━━━━━━━━━━━━━━━━━━━━━━━━━\u001b[0m \u001b[32m105.4/105.4 kB\u001b[0m \u001b[31m6.6 MB/s\u001b[0m eta \u001b[36m0:00:00\u001b[0m\n",
            "\u001b[?25hDownloading pybase64-1.4.1-cp311-cp311-manylinux_2_5_x86_64.manylinux1_x86_64.manylinux_2_17_x86_64.manylinux2014_x86_64.whl (71 kB)\n",
            "\u001b[2K   \u001b[90m━━━━━━━━━━━━━━━━━━━━━━━━━━━━━━━━━━━━━━━━\u001b[0m \u001b[32m71.2/71.2 kB\u001b[0m \u001b[31m4.3 MB/s\u001b[0m eta \u001b[36m0:00:00\u001b[0m\n",
            "\u001b[?25hDownloading backoff-2.2.1-py3-none-any.whl (15 kB)\n",
            "Downloading durationpy-0.10-py3-none-any.whl (3.9 kB)\n",
            "Downloading httptools-0.6.4-cp311-cp311-manylinux_2_5_x86_64.manylinux1_x86_64.manylinux_2_17_x86_64.manylinux2014_x86_64.whl (459 kB)\n",
            "\u001b[2K   \u001b[90m━━━━━━━━━━━━━━━━━━━━━━━━━━━━━━━━━━━━━━━━\u001b[0m \u001b[32m459.8/459.8 kB\u001b[0m \u001b[31m24.9 MB/s\u001b[0m eta \u001b[36m0:00:00\u001b[0m\n",
            "\u001b[?25hDownloading uvloop-0.21.0-cp311-cp311-manylinux_2_17_x86_64.manylinux2014_x86_64.whl (4.0 MB)\n",
            "\u001b[2K   \u001b[90m━━━━━━━━━━━━━━━━━━━━━━━━━━━━━━━━━━━━━━━━\u001b[0m \u001b[32m4.0/4.0 MB\u001b[0m \u001b[31m68.4 MB/s\u001b[0m eta \u001b[36m0:00:00\u001b[0m\n",
            "\u001b[?25hDownloading watchfiles-1.1.0-cp311-cp311-manylinux_2_17_x86_64.manylinux2014_x86_64.whl (453 kB)\n",
            "\u001b[2K   \u001b[90m━━━━━━━━━━━━━━━━━━━━━━━━━━━━━━━━━━━━━━━━\u001b[0m \u001b[32m453.1/453.1 kB\u001b[0m \u001b[31m22.8 MB/s\u001b[0m eta \u001b[36m0:00:00\u001b[0m\n",
            "\u001b[?25hDownloading coloredlogs-15.0.1-py2.py3-none-any.whl (46 kB)\n",
            "\u001b[2K   \u001b[90m━━━━━━━━━━━━━━━━━━━━━━━━━━━━━━━━━━━━━━━━\u001b[0m \u001b[32m46.0/46.0 kB\u001b[0m \u001b[31m2.5 MB/s\u001b[0m eta \u001b[36m0:00:00\u001b[0m\n",
            "\u001b[?25hDownloading humanfriendly-10.0-py2.py3-none-any.whl (86 kB)\n",
            "\u001b[2K   \u001b[90m━━━━━━━━━━━━━━━━━━━━━━━━━━━━━━━━━━━━━━━━\u001b[0m \u001b[32m86.8/86.8 kB\u001b[0m \u001b[31m5.3 MB/s\u001b[0m eta \u001b[36m0:00:00\u001b[0m\n",
            "\u001b[?25hBuilding wheels for collected packages: pypika\n",
            "  Building wheel for pypika (pyproject.toml) ... \u001b[?25l\u001b[?25hdone\n",
            "  Created wheel for pypika: filename=pypika-0.48.9-py2.py3-none-any.whl size=53803 sha256=72b5fd9673dac1009db727adc3395411e0c0ddb057fec78a7a68cbfa50797057\n",
            "  Stored in directory: /root/.cache/pip/wheels/a3/01/bd/4c40ceb9d5354160cb186dcc153360f4ab7eb23e2b24daf96d\n",
            "Successfully built pypika\n",
            "Installing collected packages: pypika, durationpy, uvloop, pybase64, overrides, opentelemetry-proto, mmh3, humanfriendly, httptools, bcrypt, backoff, watchfiles, posthog, opentelemetry-exporter-otlp-proto-common, opentelemetry-api, coloredlogs, opentelemetry-semantic-conventions, onnxruntime, kubernetes, opentelemetry-sdk, opentelemetry-exporter-otlp-proto-grpc, chromadb, langchain_chroma\n",
            "Successfully installed backoff-2.2.1 bcrypt-4.3.0 chromadb-1.0.15 coloredlogs-15.0.1 durationpy-0.10 httptools-0.6.4 humanfriendly-10.0 kubernetes-33.1.0 langchain_chroma-0.2.4 mmh3-5.1.0 onnxruntime-1.22.1 opentelemetry-api-1.35.0 opentelemetry-exporter-otlp-proto-common-1.35.0 opentelemetry-exporter-otlp-proto-grpc-1.35.0 opentelemetry-proto-1.35.0 opentelemetry-sdk-1.35.0 opentelemetry-semantic-conventions-0.56b0 overrides-7.7.0 posthog-5.4.0 pybase64-1.4.1 pypika-0.48.9 uvloop-0.21.0 watchfiles-1.1.0\n"
          ]
        }
      ],
      "source": [
        "!pip install langchain\n",
        "!pip install langchain_community\n",
        "!pip install langchain_openai\n",
        "!pip install langchain_text_splitters\n",
        "!pip install pymupdf\n",
        "!pip install langchain_chroma"
      ]
    },
    {
      "cell_type": "code",
      "source": [
        "from getpass import getpass\n",
        "OPENAI_API_KEY=getpass(\"enter the key:-\")"
      ],
      "metadata": {
        "colab": {
          "base_uri": "https://localhost:8080/"
        },
        "id": "9k5ZczX-LvKG",
        "outputId": "3201a17f-eb81-4616-fce6-370afa18bd85"
      },
      "execution_count": 3,
      "outputs": [
        {
          "name": "stdout",
          "output_type": "stream",
          "text": [
            "enter the key:-··········\n"
          ]
        }
      ]
    },
    {
      "cell_type": "code",
      "source": [
        "import os\n",
        "os.environ[\"OPENAI_API_KEY\"]=OPENAI_API_KEY"
      ],
      "metadata": {
        "id": "OCWwRboiM8_z"
      },
      "execution_count": 4,
      "outputs": []
    },
    {
      "cell_type": "code",
      "source": [
        "from langchain_openai import OpenAIEmbeddings\n",
        "embador=OpenAIEmbeddings(model=\"text-embedding-3-small\")"
      ],
      "metadata": {
        "id": "7uyutPG0MOZu"
      },
      "execution_count": 5,
      "outputs": []
    },
    {
      "cell_type": "code",
      "source": [
        "!wget https://files.eric.ed.gov/fulltext/EJ1210944.pdf"
      ],
      "metadata": {
        "colab": {
          "base_uri": "https://localhost:8080/"
        },
        "id": "gDpcj3gONY62",
        "outputId": "35fd41c0-c6eb-4a41-ba65-cc46ee727053"
      },
      "execution_count": 6,
      "outputs": [
        {
          "output_type": "stream",
          "name": "stdout",
          "text": [
            "--2025-07-20 08:30:05--  https://files.eric.ed.gov/fulltext/EJ1210944.pdf\n",
            "Resolving files.eric.ed.gov (files.eric.ed.gov)... 108.157.173.37, 108.157.173.21, 108.157.173.97, ...\n",
            "Connecting to files.eric.ed.gov (files.eric.ed.gov)|108.157.173.37|:443... connected.\n",
            "HTTP request sent, awaiting response... 200 OK\n",
            "Length: 245035 (239K) [application/pdf]\n",
            "Saving to: ‘EJ1210944.pdf’\n",
            "\n",
            "EJ1210944.pdf       100%[===================>] 239.29K  --.-KB/s    in 0.05s   \n",
            "\n",
            "2025-07-20 08:30:05 (5.03 MB/s) - ‘EJ1210944.pdf’ saved [245035/245035]\n",
            "\n"
          ]
        }
      ]
    },
    {
      "cell_type": "code",
      "source": [
        "from langchain_community.document_loaders import PyMuPDFLoader\n",
        "loader=PyMuPDFLoader(file_path='EJ1210944.pdf')"
      ],
      "metadata": {
        "id": "HdZkalvEM5YN"
      },
      "execution_count": 7,
      "outputs": []
    },
    {
      "cell_type": "code",
      "source": [
        "pages = loader.load()"
      ],
      "metadata": {
        "id": "zBgOycsGOEE9"
      },
      "execution_count": 8,
      "outputs": []
    },
    {
      "cell_type": "code",
      "source": [
        "from langchain_text_splitters import RecursiveCharacterTextSplitter\n",
        "splittor=RecursiveCharacterTextSplitter(separators=[\"\\n\\n\",\"\\n\",\" \",\"\"],\n",
        "                                        chunk_size=1000 ,\n",
        "                                        chunk_overlap=200)"
      ],
      "metadata": {
        "id": "VrrPZG5nOJnT"
      },
      "execution_count": 9,
      "outputs": []
    },
    {
      "cell_type": "code",
      "source": [
        "texts=[]\n",
        "for page in pages:\n",
        "  chunks=splittor.split_text(page.page_content)\n",
        "  for chunk in chunks:\n",
        "    texts.append(chunk)"
      ],
      "metadata": {
        "id": "_RhEjTo1O7eE"
      },
      "execution_count": 10,
      "outputs": []
    },
    {
      "cell_type": "code",
      "source": [
        "len(texts)"
      ],
      "metadata": {
        "colab": {
          "base_uri": "https://localhost:8080/"
        },
        "id": "3lHklNmrPdzL",
        "outputId": "f395bf65-9e09-4fa2-abd6-dc4174099a45"
      },
      "execution_count": 13,
      "outputs": [
        {
          "output_type": "execute_result",
          "data": {
            "text/plain": [
              "76"
            ]
          },
          "metadata": {},
          "execution_count": 13
        }
      ]
    },
    {
      "cell_type": "code",
      "source": [
        "texts[11]"
      ],
      "metadata": {
        "colab": {
          "base_uri": "https://localhost:8080/",
          "height": 122
        },
        "id": "A9J6PX_6PhBC",
        "outputId": "01845306-99ae-4139-b6ca-7191b326fa22"
      },
      "execution_count": 14,
      "outputs": [
        {
          "output_type": "execute_result",
          "data": {
            "text/plain": [
              "'social support in this process (Nilsson, Andersson, & Blomqvist, 2017). Roberts (2008) reminded \\nus though, that reflection may veer off into too emotional and uncomfortable topics, which can \\ncause ethical issues if the information is misused.  \\n To support reflection, educators can help learners externalize their tacit mental activities \\nby prompting them to reflect on what they have done before, during, or after an event (Lin et al., \\n1999).  Learners can create portfolios to reflect on their professional work and make their concrete \\npractice visible. “The reflective comments expected in teaching portfolios are articulations of \\nidentity in practice and negotiations of the repertoires of the community” (Berrill, & Addison, \\n2010, p. 1180). Reflecting on learners’ experience “enables the participants to create and share \\nlocal explicit and tacit knowledge” (Gausdal, 2008, p. 211). Scholars used writing formats such as'"
            ],
            "application/vnd.google.colaboratory.intrinsic+json": {
              "type": "string"
            }
          },
          "metadata": {},
          "execution_count": 14
        }
      ]
    },
    {
      "cell_type": "code",
      "source": [
        "from langchain_chroma import Chroma\n",
        "db=Chroma.from_texts(texts=texts,ids=(f\"doc_{i}\"for i in range(76)),\n",
        "                     embedding=embador,\n",
        "                     collection_name='reflecton_db',\n",
        "                     collection_metadata={\n",
        "                         \"hnsw:space\":\"cosine\"\n",
        "                     })"
      ],
      "metadata": {
        "id": "DZqFyznWPkJ2"
      },
      "execution_count": 11,
      "outputs": []
    },
    {
      "cell_type": "code",
      "source": [
        "db"
      ],
      "metadata": {
        "colab": {
          "base_uri": "https://localhost:8080/"
        },
        "id": "opioW864QliW",
        "outputId": "c94fc4a2-fa9c-4a0c-846a-e3452de37cfe"
      },
      "execution_count": 23,
      "outputs": [
        {
          "output_type": "execute_result",
          "data": {
            "text/plain": [
              "<langchain_chroma.vectorstores.Chroma at 0x7c4953b8b590>"
            ]
          },
          "metadata": {},
          "execution_count": 23
        }
      ]
    },
    {
      "cell_type": "code",
      "source": [
        "db.get()"
      ],
      "metadata": {
        "colab": {
          "base_uri": "https://localhost:8080/"
        },
        "id": "g_zDKFYcRTtc",
        "outputId": "e828b3c3-8d03-4e33-96df-07f64d48fb97"
      },
      "execution_count": 12,
      "outputs": [
        {
          "output_type": "execute_result",
          "data": {
            "text/plain": [
              "{'ids': ['doc_0',\n",
              "  'doc_1',\n",
              "  'doc_2',\n",
              "  'doc_3',\n",
              "  'doc_4',\n",
              "  'doc_5',\n",
              "  'doc_6',\n",
              "  'doc_7',\n",
              "  'doc_8',\n",
              "  'doc_9',\n",
              "  'doc_10',\n",
              "  'doc_11',\n",
              "  'doc_12',\n",
              "  'doc_13',\n",
              "  'doc_14',\n",
              "  'doc_15',\n",
              "  'doc_16',\n",
              "  'doc_17',\n",
              "  'doc_18',\n",
              "  'doc_19',\n",
              "  'doc_20',\n",
              "  'doc_21',\n",
              "  'doc_22',\n",
              "  'doc_23',\n",
              "  'doc_24',\n",
              "  'doc_25',\n",
              "  'doc_26',\n",
              "  'doc_27',\n",
              "  'doc_28',\n",
              "  'doc_29',\n",
              "  'doc_30',\n",
              "  'doc_31',\n",
              "  'doc_32',\n",
              "  'doc_33',\n",
              "  'doc_34',\n",
              "  'doc_35',\n",
              "  'doc_36',\n",
              "  'doc_37',\n",
              "  'doc_38',\n",
              "  'doc_39',\n",
              "  'doc_40',\n",
              "  'doc_41',\n",
              "  'doc_42',\n",
              "  'doc_43',\n",
              "  'doc_44',\n",
              "  'doc_45',\n",
              "  'doc_46',\n",
              "  'doc_47',\n",
              "  'doc_48',\n",
              "  'doc_49',\n",
              "  'doc_50',\n",
              "  'doc_51',\n",
              "  'doc_52',\n",
              "  'doc_53',\n",
              "  'doc_54',\n",
              "  'doc_55',\n",
              "  'doc_56',\n",
              "  'doc_57',\n",
              "  'doc_58',\n",
              "  'doc_59',\n",
              "  'doc_60',\n",
              "  'doc_61',\n",
              "  'doc_62',\n",
              "  'doc_63',\n",
              "  'doc_64',\n",
              "  'doc_65',\n",
              "  'doc_66',\n",
              "  'doc_67',\n",
              "  'doc_68',\n",
              "  'doc_69',\n",
              "  'doc_70',\n",
              "  'doc_71',\n",
              "  'doc_72',\n",
              "  'doc_73',\n",
              "  'doc_74',\n",
              "  'doc_75'],\n",
              " 'embeddings': None,\n",
              " 'documents': ['Reflection in Learning \\nOnline Learning Journal – Volume 23 Issue 1 – March 2019                    5 95 \\n \\nReflection in Learning \\n \\nBo Chang \\nBall State University \\n \\nAbstract \\nThis study explored the impact of reflection on learning in an online learning environment. \\nTwenty-five students from four online courses (two courses, each with two sessions) participated \\nin this research project. Reflection was purposefully designed and embedded in various \\nassignments. Data were mainly collected from interviews and students’ various types of reflections. \\nThe inductive content analysis method was employed to analyze data. Five themes were \\ngeneralized in terms of how reflection impacts learning: Increasing the depth of knowledge, \\nidentifying the areas which are missing or deficient, personalizing and contextualizing knowledge, \\nproviding comparative references in learning, and helping learners build structural connections in',\n",
              "  'identifying the areas which are missing or deficient, personalizing and contextualizing knowledge, \\nproviding comparative references in learning, and helping learners build structural connections in \\nknowledge and social connections among learners. This study provides foundational ideas for \\ndesigning reflective activities to promote students’ learning in an online learning environment. \\n \\nKeywords: Reflection, online learning, structure of knowledge  \\n \\nChang, B. (2019). Reflection in learning. Online Learning, 23(1), 95-110. \\ndoi:10.24059/olj.v23i1.1447 \\n \\n \\n \\nReflection in Learning \\nReflection plays an important role in the field of education. Scholars have discussed \\nreflection from different perspectives for different purposes. For example, in Kolb’s (1984) \\nexperiential learning model, reflection is the key for learners to transform concrete experience into \\nabstract concepts. Schon (1987) differentiated the concepts of reflection on action and reflection',\n",
              "  'abstract concepts. Schon (1987) differentiated the concepts of reflection on action and reflection \\nin action. Reflection is also widely used in practice in various types of forms such as journals, \\nportfolios, and reports (Helyer, 2015; Helyer & Kay, 2015).  \\nMany times, students complete their assignments without reflection. Reflection in learning \\nis necessary for students to revisit what they have learned for improvement and for in-depth \\nlearning. It gives students an opportunity to document their learning journey and provide \\nreferences and suggestions for future students. Through reflection, students will “become \\naccomplished at recognizing that they are learning and building skills continuously” (Helyer, 2015. \\np. 23). In this study, the impact of reflection on learning in an online learning environment will be \\nexplored, which is less discussed in the literature. Specifically, the research question is: How does \\nreflection impact learning and support learners to learn?',\n",
              "  'Reflection in Learning \\nOnline Learning Journal – Volume 23 Issue 1 – March 2019                    5 96 \\nReview of Related Literature \\nScholars have widely discussed reflection and categorized reflection from different angles. \\nRoskos, Vukelich, and Risko (2001) summarized the types of reflection discussed by scholars \\nbased on its function, structure, and timeline. Based on function, reflection includes personal \\nreflection and classroom practice reflection; based on structure, reflection includes scaffolding, \\nreframing, and debriefing; and based on a timeline, reflection includes retrospective reflection \\n(reflecting on past actions), contemporaneous reflection (reflecting on the activities in-action), \\nand anticipatory reflection (reflecting on future actions). Heyler (2015) suggested that:  \\nReflection is not just about looking back on what happened, it is encompassing. People \\ninstinctively reflect on events, perhaps to better understand what has happened and make',\n",
              "  'Reflection is not just about looking back on what happened, it is encompassing. People \\ninstinctively reflect on events, perhaps to better understand what has happened and make \\nsense of it; the idea of learning from the past, especially trying not to repeat mistakes is \\nwell established. (p.22)  \\nReflection enables learners to generalize the main ideas, principles, and abstract concepts \\nfrom experience (Kolb, 1984). The process of reflection includes debriefing and reframing to \\nexpand students’ beliefs and understanding, using journaling as a form of reflection to help \\nstudents develop conscious awareness, and using prompts and feedback to guide students’ \\nreflection (Roskos, Vukelich, & Risko, 2001). Clark and Brennan (1991) thought that reflective \\ndialogue can facilitate learners to create knowledge and generalize practical examples into explicit \\nknowledge. In reflective dialogue, students “integrate and generalize accepted arguments. They',\n",
              "  'dialogue can facilitate learners to create knowledge and generalize practical examples into explicit \\nknowledge. In reflective dialogue, students “integrate and generalize accepted arguments. They \\nrecapitulate actions and draw lessons from their experiences” (Schwarz, Dreyfus & Hershkowits \\n2004, p. 170), and help students draw conclusions. In reflection, experience is re-thought in order \\nfor the perspective to change and the practice to improve (Freed, n. d.). For Lin, Hmelo, Kinzer, \\nand Secules (1999), “reflective thinking is an active, intentional, and purposeful process of \\nexploration, discovery, and learning” (p. 46). They stated that: \\nIn order to make conscious decisions about the uses of information, students have to step \\nback and reflect on how they actually make decisions and solve problems and how a \\nparticular set of problem-solving strategies is appropriate or might be improved. (p. 43)',\n",
              "  'back and reflect on how they actually make decisions and solve problems and how a \\nparticular set of problem-solving strategies is appropriate or might be improved. (p. 43) \\nReflection is to evaluate, synthesize, and abstract the concrete examples shared. It reveals the \\nimportant features and relations which are neglected in abstract and explicit knowledge.  \\nAgouridas and Race (2007) said that reflection is a process of personalizing and \\nunderstanding the contents, process, and the rationales for what we have learned. Through \\nreflection, we relate our personal experience to a wider perspective, which helps us to see the \\nbigger picture. Helyer, (2015) stated that the process of reflection utilizes knowledge that “lies \\ndeep within (tacit knowledge) – so deep it is often taken for granted and not explicitly \\nacknowledged, but it is the data humans use to make instinctive decisions based upon accumulated',\n",
              "  'deep within (tacit knowledge) – so deep it is often taken for granted and not explicitly \\nacknowledged, but it is the data humans use to make instinctive decisions based upon accumulated \\nknowledge from past actions and experience” (p.22). Winitzky (1992) viewed reflection as a \\nprocess to retrieve, apply, and analyze knowledge, and to relate that knowledge to larger issues. \\nAgouridas and Race (2007) also agreed that we can step back and reflect on the process of \\nassignments and think of their broader meanings.  \\nLarsen, London, and Emke (2016) argued that reflection is not just for social purpose, it can \\nalso be used to “influence students’ learning from experience, increase their awareness of their \\nthoughts and actions, and increase their perceived recall of experiences” (p. 285).  When students \\nconduct the reflections, they repeatedly retrieve the information from memory, and the retention \\nof experience is thereby increased.',\n",
              "  'Reflection in Learning \\nOnline Learning Journal – Volume 23 Issue 1 – March 2019                    5 97 \\nReflection stimulates students to question their philosophy and beliefs and make connections \\nbetween students’ beliefs and their assignments, and to tie theory to students’ personal beliefs. \\n“Developing a reflection means that an individual begins to automatically challenge and question \\nwhy tasks were undertaken in a certain way rather than how they were carried out (Helyer, 2015, \\np.23).  Ovens and Tinning (2009) believed that through engaging in reflective activity, students \\n“could begin to peel back some of the layers of their social reality” (p.1130) and search for the \\nsocial structures which have contributed to their oppression.  \\nReflection is not just an individual activity. Reflection can also be a collective activity. \\n“Joint reflection with peers aids individuals as they refine, develop, and enhance teaching skills',\n",
              "  'Reflection is not just an individual activity. Reflection can also be a collective activity. \\n“Joint reflection with peers aids individuals as they refine, develop, and enhance teaching skills \\nfrom various perspectives” (Krutka, Bergman, Flores, Mason, & Jack, 2014, p. 85). Collaborative \\nreflection can bring different perspectives when we have dialogues with others, when others see \\nthings differently, ask different questions, or challenge our assumptions (Krutka, et. al., 2014). In \\nthe collective reflection, “We interpret what we do and why we do it by involving ourselves and \\nothers in conversation, debate, and reflection on individual and collective understandings. We \\nvalue the importance and relationships of all parties involved” (Bowne, Cutler, DeBates, Gilkerson, \\n& Stremmel, 2010, p. 49).  \\nLarsen, London, and Emke’s (2016) research indicates that in reflection processes, learners \\ncan exchange perspectives among group members and reevaluate their original perspectives.',\n",
              "  'Larsen, London, and Emke’s (2016) research indicates that in reflection processes, learners \\ncan exchange perspectives among group members and reevaluate their original perspectives. \\nDifferent perspectives and alternative ways of solving problems can be generated in this dialogic \\nreflection process.  \\nLearners can reflect on both professional issues and private issues. Reflection “without \\nconnection to course material will not result in learning” (Roberts, 2008, p.125). Reflecting on the \\nprofessional level is important. However, it is also necessary to reflect on private issues since \\nthrough reflecting on private issues and sharing each other’s personal experiences, learners will \\nfind more connections and a sense of safety and belonging, and they can also provide each other \\nsocial support in this process (Nilsson, Andersson, & Blomqvist, 2017). Roberts (2008) reminded \\nus though, that reflection may veer off into too emotional and uncomfortable topics, which can',\n",
              "  'social support in this process (Nilsson, Andersson, & Blomqvist, 2017). Roberts (2008) reminded \\nus though, that reflection may veer off into too emotional and uncomfortable topics, which can \\ncause ethical issues if the information is misused.  \\n To support reflection, educators can help learners externalize their tacit mental activities \\nby prompting them to reflect on what they have done before, during, or after an event (Lin et al., \\n1999).  Learners can create portfolios to reflect on their professional work and make their concrete \\npractice visible. “The reflective comments expected in teaching portfolios are articulations of \\nidentity in practice and negotiations of the repertoires of the community” (Berrill, & Addison, \\n2010, p. 1180). Reflecting on learners’ experience “enables the participants to create and share \\nlocal explicit and tacit knowledge” (Gausdal, 2008, p. 211). Scholars used writing formats such as',\n",
              "  '2010, p. 1180). Reflecting on learners’ experience “enables the participants to create and share \\nlocal explicit and tacit knowledge” (Gausdal, 2008, p. 211). Scholars used writing formats such as \\nportfolios, summaries, journals, etc. to reflect on experience (Roskos, Vukelich, & Risko, 2001). \\nThey found out that interactive reflection can lead learners to more in-depth ideas. They \\nrecommended that instructors design the instructional protocols to help students develop reflective \\nthinking. Yaffe (2010) recommended to improve self-awareness and reflective ability through \\ndifferent stages of reflections: Learners started with self-reflection through video-taping the \\nlessons from their perspectives. Both mentors and learners then watched the recorded lessons and \\nidentified the strengths and weaknesses of learners’ practical tasks and looked for alternatives and \\nways in which the tasks could be improved. The purpose was to improve the ability of learners to',\n",
              "  'identified the strengths and weaknesses of learners’ practical tasks and looked for alternatives and \\nways in which the tasks could be improved. The purpose was to improve the ability of learners to \\nreach to a higher level of reflection, increase their self-awareness in their work, and make their \\nimplicit knowledge explicit.',\n",
              "  'Reflection in Learning \\nOnline Learning Journal – Volume 23 Issue 1 – March 2019                    5 98 \\n  \\nCavilla’s (2017) study indicates that reflection may affect students’ affective levels, but \\nnot necessarily their cognitive levels. To make reflection useful for students’ academic \\nperformance, reflection “should be implemented in a well-structured, intentional manner with \\npurposeful fidelity throughout the course of a student’s academic career” (p. 12). Persson, Kvist, \\nand Ekelin’s (2018) research shows that students may not be honest about their reflections when \\nthey adjusted them to suit the needs of the instructors. Therefore, the researchers suggested that \\nreflection be used for the purpose of development without assigning credit points so that students \\nfeel safe to provide their honest reflection. \\n \\nMethods \\nThis research project was conducted in a public research university in the Midwestern',\n",
              "  'feel safe to provide their honest reflection. \\n \\nMethods \\nThis research project was conducted in a public research university in the Midwestern \\nUnited States.  Twenty-five graduate students from the online courses (two courses, each with two \\nsessions) participated in this research project. The first course is about the foundations of adult and \\ncommunity education, and the second is about adult learning theories. Even though the \\nassignments in these courses were different, the requirements for reflection were nearly the same. \\nThe study was reviewed and approved by the University Institutional Review Board. Participating \\nin this research project was voluntary, and the participants could withdraw from the project at any \\ntime.  \\nDesign and Procedures of the Intervention \\nBased on the ideas of reflection in literature, various reflections were designed to meet \\nlearners’ professional and private/emotional needs. At the professional level, to help students',\n",
              "  'Based on the ideas of reflection in literature, various reflections were designed to meet \\nlearners’ professional and private/emotional needs. At the professional level, to help students \\nunderstand the values of assignments and how these can contribute to their professional work, \\nreflection was embedded into the assignments.  \\nThe followings are the specific procedures in the reflection design: \\nFirst, after students completed each assignment, they were required to reflect on content-\\nspecific knowledge, their learning processes, and the value of their learning. Specifically, at the \\nend of each assignment, students were required to reflect on the highlights, or the uniqueness, or \\nthe most significant parts of their assignment, the process of how they completed their assignments, \\nthe lessons/tips they gained in this process, and on other information they wanted to share. To \\nreinforce their learning, students were also required to summarize the main ideas of each',\n",
              "  'the lessons/tips they gained in this process, and on other information they wanted to share. To \\nreinforce their learning, students were also required to summarize the main ideas of each \\nassignment in a summary table. Such reflection serves as an evaluation of students’ assignments \\nand helps students check to see whether or not they have completed every required task in the \\nassignments. \\nSecondly, students completed a midterm course reflection and a final course reflection \\nabout their opinions of the online discussions, the group projects, the knowledge and skills they \\nlearned in the course, and their overall impression of the course, etc. These reflections mainly \\nserved as feedback for course improvement and for students to review what they had learned. \\nThirdly, students reflected on the following in their final project demonstration: their \\nlearning experience, their learning process (reflecting on past actions), the highlights/the',\n",
              "  'Thirdly, students reflected on the following in their final project demonstration: their \\nlearning experience, their learning process (reflecting on past actions), the highlights/the \\nuniqueness/creative aspects and the most significant parts of their project (reflecting on the \\nactivities in action), and the lessons/tips they gained from their whole project. They also reflected \\non their survival tips for the course, their learning journey during the semester, lessons they had',\n",
              "  'Reflection in Learning \\nOnline Learning Journal – Volume 23 Issue 1 – March 2019                    5 99 \\ngained, knowledge they had learned, and their suggestions for future students (reflection on future \\nactions). These reflections were recorded in videos and posted publicly on their group blogs.  \\nThe above reflections include both “reflection on past,” “reflection in action,” and \\n“reflection on future actions”; academic/profession related reflection, such as reflection embedded \\nat the end of each assignment for the purpose of conceptualizing students’ learning, and private \\nreflection, such as learning journey and survival tips, for the purpose of providing students social \\nand emotional support and creating a sense of community and connection.  To promote the group \\nreflection, students were required to submit all of their assignments to their group blogs so that \\nother students could access and comment on their work and at the same time learn different',\n",
              "  'reflection, students were required to submit all of their assignments to their group blogs so that \\nother students could access and comment on their work and at the same time learn different \\nperspectives from their reflections about how they conducted their project. To provide some \\nprivate space, students were required to submit the final reflection paper privately to the instructor. \\nData Collection and Analysis \\nData mainly included interviews and participants’ various types of reflections. These \\nincluded individual students’ mid-term course reflections, final reflection papers, as well as \\nstudents’ responses to the questions about reflective dialogue in the online discussions. In \\ninterviewing students, I (the instructor for these courses too) asked students’ opinions of reflection \\non their learning. I also reflected on the instructional practices in previous courses, in the current',\n",
              "  'on their learning. I also reflected on the instructional practices in previous courses, in the current \\ncourses, and on possible changes to future courses with the students I interviewed. As part of the \\nonline discussion questions, students were required to discuss what they had learned from the \\ncourses. This type of reflective dialogue is to help students generalize their experiences and draw \\nlessons from them. Other questions that I asked the participants in interviews and in written \\nreflection included: How do you think this type of reflective dialogue can help you understand the \\ntopics in this course? After you did each assignment, what have you gained, what was the value \\nabout this assignment? What lessons have you gained, what knowledge did you learn? What else \\ncan we do to improve this type of reflective dialogue? \\nThe inductive content analysis method was used to analyze data. Such analysis includes',\n",
              "  'can we do to improve this type of reflective dialogue? \\nThe inductive content analysis method was used to analyze data. Such analysis includes \\nusing open coding (labeling the chunks of data based on summarizing the meaning of the text), \\ncreating categories (grouping the labels based on their similarities and differences), and using \\nabstraction (generalizing themes based on the categories created) (Elo & Kyngäs, 2008). \\nSpecifically, I read the data, highlighted the segments of the data which were relevant to the \\nresearch questions, I then put these highlighted data in Excel, summarized the meanings of these \\ndata, and used a set of codes to label these data and to reduce the volume of data. I then grouped \\nthe data segments with similar codes and categorized them. Based on the categories created, I \\ngeneralized the themes. \\n  \\nResults \\nSix themes were generalized in terms of how reflection impacts learning: Increasing the',\n",
              "  'generalized the themes. \\n  \\nResults \\nSix themes were generalized in terms of how reflection impacts learning: Increasing the \\ndepth of knowledge, identifying the areas which are missing or deficient, personalizing and \\ncontextualizing knowledge, providing comparative references in learning, helping learners build \\nstructural connections in knowledge, and social connections among learners. Generalization here \\nis an abstraction process through which we draw general conclusions/principles based on \\nparticulars. It is part of the inductive analysis process (Polit & Beck, 2010).',\n",
              "  'Reflection in Learning \\nOnline Learning Journal – Volume 23 Issue 1 – March 2019                    5 100 \\nIn reporting the data, I did not indicate how many participants provided similar data since \\nsome data may have been provided by one or two learners, but represented what commonly \\noccurred in the courses, or indicated the unique situation in the courses since I as an instructor \\nhave the local rich knowledge of the specific circumstances in the courses. As the instrument of \\nthe qualitative research, I as a researcher play a role in understanding what is common or what is \\nunique in these courses based on my observations of the courses, my experience of interacting \\nwith students, and the issues as they occurred in these courses. \\nReinforcing and Deepening Knowledge through Revisiting the Knowledge Learned \\nReflection was required at the end of each assignment. Students reflected on the process of',\n",
              "  'Reinforcing and Deepening Knowledge through Revisiting the Knowledge Learned \\nReflection was required at the end of each assignment. Students reflected on the process of \\neach of their assignments and on the value of their assignments. Through reviewing and revisiting \\nthe knowledge learned, some students thought that their new knowledge had been reinforced and \\ndeepened. One student said: \\nThe reflection at the end of the evaluation assignment was beneficial because it was like \\ngetting a high light on what was just done.  You can write something down and not pay \\nmuch attention on it till later, but by putting the reflection section on the end it almost \\nforced you to look at what you did, kind of digested what was just accomplished. \\nThis was echoed by another student who thought that reflection made students think about the \\nassignments more deeply after they looked back and analyzed what they had completed:',\n",
              "  'This was echoed by another student who thought that reflection made students think about the \\nassignments more deeply after they looked back and analyzed what they had completed: \\nReflections helped me understand the assignments because I thought about them more \\ndeeply.  It made me analyze the theories a little more because I revisited them after the \\nassignments were completed. I think that it is a good learning tool to come back to a theory \\nafter learning about it, so that you can analyze it and see if it was effective in a real-life \\nsituation.   \\nOne student also mentioned that through reflection, students could look back to what they had \\ncompleted and understand the applicative aspect of the knowledge: \\nThe reflections allowed me the chance to really take a breath and look back on what our \\ngroup had just completed. This was welcome because when working I sometimes forgot to \\nreally think about exactly what I just did. By completing these reflections, I was able to',\n",
              "  'group had just completed. This was welcome because when working I sometimes forgot to \\nreally think about exactly what I just did. By completing these reflections, I was able to \\nreally know how to apply what I just learned in real world applications and programs. \\nReflection activity allows students to conceptualize the experience, and raise the \\nknowledge to a higher level meta-cognitive aspect. As one student said, “the section on \\nReflections helped me to see my own meta-cognition.” \\nImproving Learning by Identifying the Areas Which Are Missing or Deficient \\nReflection helped students improve their work. The participants thought that reflection \\nhelped them to self-evaluate/assess the knowledge they had acquired and to identify the unclear \\nareas in learning. One student said that he appreciated the reflection portion at the end of the \\nassignment, since it made students look back at their efforts and see how they could improve their',\n",
              "  'areas in learning. One student said that he appreciated the reflection portion at the end of the \\nassignment, since it made students look back at their efforts and see how they could improve their \\nlearning in the future. One student said that after he completed his assignment, he reflected back \\non what he had done and realized that maybe some pieces could be completed better next time. \\nOne student said that “The reflections helped me with identifying the areas of our project where \\nmore clarification was needed.” Most of the students noticed that reflection allowed them to step',\n",
              "  'Reflection in Learning \\nOnline Learning Journal – Volume 23 Issue 1 – March 2019                    5 101 \\nback to review all of the knowledge they had learned and to see the value of their work holistically, \\nnot just partially. One student said: \\nThe reflections were a great part of looking back on what I had learned and how I had \\nreached that point in the project and my understanding. I was able to identify ways to \\nimprove the group’s cohesiveness and the overall progression of our work by reflecting on \\nour efforts. \\nReflection is a good way for students to look back on their work to evaluate and identify what is \\nmissing, just like one student said: \\nI thought the reflection part of the assignments was a good way for groups to assess their \\nexperience through the specific assignment and what could be done better for the next one. \\nAfter reviewing ours, I do wish we had reflected on different aspects for each assignment.',\n",
              "  'experience through the specific assignment and what could be done better for the next one. \\nAfter reviewing ours, I do wish we had reflected on different aspects for each assignment. \\nIt seemed that our group had to focus a lot on trying to maintain productive communication \\nto successfully complete each assignment. Even though communication is important, it \\nwould have been nice to be able to focus on other aspects. \\nSome students thought that reflection embedded in the assignments provided them \\nopportunities to make changes to improve their work while they looked back at what they had \\ncompleted. Through reflection, they could find out the best way to do things. One student said: \\nThe reflection piece was a good way to look inside myself and see what I felt was working \\nwell and what was not.  It also allowed me time to reflect so I could make any changes \\nnecessary to better the situation moving forward.  I realized through the reflections that so',\n",
              "  'well and what was not.  It also allowed me time to reflect so I could make any changes \\nnecessary to better the situation moving forward.  I realized through the reflections that so \\nmuch of this field is trial and error.  Being open to finding out what will work and what \\nwill not but being flexible enough to try new things.   \\nReflections shared in the group blogs allowed other students to understand each group’s projects \\nand provide meaningful feedback to their peers for improvement. One student said: \\nI appreciated the reflections at the conclusion of most assignments. It always beneficial to \\nlook back at your efforts and see how you could improve in the future. These reflections \\nalso allow for purposeful feedback to help create meaning for the learner. This reflection \\npiece is significant for any type of learning to take place, and it also holds true with the \\ncourse.  \\nPersonalizing and Contextualizing Knowledge',\n",
              "  'piece is significant for any type of learning to take place, and it also holds true with the \\ncourse.  \\nPersonalizing and Contextualizing Knowledge \\nStudents were required to reflect on what they had learned from their own projects in their \\nassignments, and what they had learned from other groups in their final survival memo — students’ \\nreflections of how they successfully completed the course and “survived” during the semester. \\nSome students said that the reflection part of each assignment was their favorite part, since it gave \\nthem an opportunity to write about their learning process and about what they gained from it. By \\ndescribing their learning journey in their reflections, students were able to personalize or \\ncontextualize the knowledge and transform their implicit knowledge into explicit knowledge. \\nSome students described the process of how they completed their assignments with personal',\n",
              "  'contextualize the knowledge and transform their implicit knowledge into explicit knowledge. \\nSome students described the process of how they completed their assignments with personal \\nexperiences and emotions, how they understood the theories, and how they transformed the \\ntheories into concrete practical programs. Some participants said that by looking at others’ \\nreflections, blogs and projects, they could see the theories and how they could be used in practice. \\nOne student said：',\n",
              "  'Reflection in Learning \\nOnline Learning Journal – Volume 23 Issue 1 – March 2019                    5 102 \\nI also think that reflecting on others’ projects helped me to think more critically about the \\nlearning theories and how they were being applied which helped me to understand the other \\ntheories better. \\nFirst-hand experience described by students provides the concrete context for other \\nstudents to understand the applicative aspects of the theories. One student said: \\nThe reflections in each assignment helped me to understand the assignment in regards to \\nhow the theories and ideas were applied in a practical sense. There were very detailed \\ndescriptions from other classmates in regards to how they applied different techniques and \\nmethods in their study. It is always nice to get first-hand experience from my peers versus \\nreading about it in a textbook. \\nStudents were required to make video introductions about how they completed their',\n",
              "  'reading about it in a textbook. \\nStudents were required to make video introductions about how they completed their \\nprojects. One student said that reflective practice really made him go back to look at what he had \\ntalked about in his video introduction of the project and find out the information which was \\nimportant. He said that when he reflected on what he did, he thought of the personal connections \\nwith the community he had and how his past experiences connected to his current situation. He \\ndrew all of these together through reflection. Reflection allowed him to tie what he had learned to \\nthe community where he had personal connections and meshed his personal knowledge about \\ncommunity together with the theories he had learned and the project he had completed, which \\nhelped him understand knowledge in context. This was echoed by another student who described \\nhow putting knowledge in context through reflection helped him understand and retain knowledge:',\n",
              "  'helped him understand knowledge in context. This was echoed by another student who described \\nhow putting knowledge in context through reflection helped him understand and retain knowledge: \\nI personally am an auditory learner so listening to content being placed in a context and then \\nreflecting on that helps me through the learning process to not only retain information but \\nto also understand and contextualize the content as well. \\nThrough reflection, students personalized different learning theories and provided concrete \\ncontextual information about how to apply theories in practice. As one student indicated, reflection \\nreveals students’ personalized thinking of the theories: \\nThe reflection session allowed me to gain better understanding of some theories that I was \\nconfused about.  This opens a person’s thinking about preconceived notions about different \\ntypes of learning.  We can apply these theories in practice by practicing what we preach',\n",
              "  'confused about.  This opens a person’s thinking about preconceived notions about different \\ntypes of learning.  We can apply these theories in practice by practicing what we preach \\nbecause all theories are different and not all learning theories are universal.   \\nProviding Comparative References in Learning Through Collective Reflection  \\nReflection reinforces students’ understanding of other students’ work. As one student stated, \\n“before we reflect on other projects, we have to understand other projects ideas, designs, and \\ntheories.” He further stated the benefit of reflection in helping students increase their knowledge: \\nReflections on other projects is good to know what other students worked on. Having some \\nidea about their project is so important to increase our knowledge in different designs, which \\ncan help build more practical information, before we reflect. \\nReflection plays an important role for students to compare their projects with others and to see the',\n",
              "  'can help build more practical information, before we reflect. \\nReflection plays an important role for students to compare their projects with others and to see the \\ndifferences and similarities. One student said that “Reading other students’ reflections were \\ninteresting because they often had a different perspective than the way I thought about it. I think it \\nis important to see the world through another lens.” Another student shared a similar view about \\nthe role of reflection in helping students see the different perspectives : “Reflections of others',\n",
              "  'Reflection in Learning \\nOnline Learning Journal – Volume 23 Issue 1 – March 2019                    5 103 \\nhelped me to see the theoretical ideas from the perspective of others; where we were in alignment \\nand where we differed in our thought processes.  It helps us to further realize our diversity.” \\nAnother student further stated how reflection pushes students to check each other’s and \\nthereby gain a wide variety of understandings of the knowledge that other students provided in \\ntheir reflections: \\nBy requiring that we review and provide reflection, we were encouraged to look at the work \\neveryone was doing. This helped to get a wide understanding of each theory and possible \\nways that they could each be applied in the real world. It also ensured that we were given \\nfeedback from our peers and therefore given a different perspective for future facets of the \\nproject. \\nOne student stated how reading others’ reflections helped students learn the same knowledge',\n",
              "  'feedback from our peers and therefore given a different perspective for future facets of the \\nproject. \\nOne student stated how reading others’ reflections helped students learn the same knowledge \\nin new and better ways:  \\nI noticed that there was often an overlap in the reflections. Although we learned about \\nsomething with one assignment didn’t stop us from learning more with the next one. For \\nexample, communication is one lesson I repeated in the reflections. We constantly were \\nlearning new and better ways to effectively communicate with our group throughout the \\nentire course. \\nMany students’ reflections showed their particular ways of completing their projects, which \\nserved as references for other students. One student said: “I saw ways that other groups worked \\ntogether and learned about their particular projects, which enabled me to steal some of their proven \\nlessons for their learning style and their process as a group.”',\n",
              "  'together and learned about their particular projects, which enabled me to steal some of their proven \\nlessons for their learning style and their process as a group.” \\nStudents reflected on their experience in each assignment. However, there was still confusion \\nin completing their assignments, especially in terms of the rationales for some assignments. I asked \\nstudents to reflect on their experience in the mid-term reflection and share their struggles and \\nexpectations in the courses. I responded to students’ questions, and at the same time shared the \\ndetailed rationales for why I had certain requirements for some assignments and reflected on the \\ncontext of why I made such changes, as well as on the experiences of previous students. I also \\nreflected on my struggles in teaching and my experience of teaching previous courses to provide \\nmore contextual information for the questions I asked in interviews. Such reflective dialogue with',\n",
              "  'reflected on my struggles in teaching and my experience of teaching previous courses to provide \\nmore contextual information for the questions I asked in interviews. Such reflective dialogue with \\nthe interviewees helped students understand some concepts and help them to see the value of the \\nassignments. For example, one student said: \\nI was a little confused on the monthly summaries, but when you explain it like that, it \\ncompletely makes sense. And I think it’s completely valid to have, and I think it’s a valuable \\npiece... So, it kind of shows our plan, and then we can see if our plan was successful that \\nmonth, I guess? But it should show others how to organize their summaries that way. But I \\ndidn’t look at it that way. But now that you say it, I’m like that’s a good piece to incorporate. \\nI interviewed students every semester and revised the courses based on the feedback from \\nthe students. I reflected on the overall course design to find out the areas which needed',\n",
              "  'I interviewed students every semester and revised the courses based on the feedback from \\nthe students. I reflected on the overall course design to find out the areas which needed \\nimprovement and the areas which should be integrated into the course design next time. When I \\nnoticed that most of the students did not do some assignments well or if the online discussions \\nwere not active, I knew that the courses were not designed well and needed improvements.',\n",
              "  'Reflection in Learning \\nOnline Learning Journal – Volume 23 Issue 1 – March 2019                    5 104 \\n \\nIn my online courses, one assignment connects to the next one, and the final assignment is \\nthe overview and demonstration of the previous assignments; reflection is embedded in each \\nassignment. In each assignment, the assignment is divided into several steps, and reflection is the \\nfinal step of the assignment. Such progressive design enables students to not only see the \\nconnections of each step in an assignment, but also the connections among assignments. Students \\nhad a chance to check each part of the knowledge they had learned in order to improve their future \\nwork. As one student said: \\nThe reflection was an integral part of our project and allowed me personally to take a step \\nback (so to speak) and think about the steps we took and how to move on any better the \\nassignment at the next step.',\n",
              "  'back (so to speak) and think about the steps we took and how to move on any better the \\nassignment at the next step. \\nAnother student further stated how such design of the reflection helped students understand the \\nconnection of one step or one assignment to the overall structure of the knowledge they had learned: \\n“It also demonstrated how each assignment fit into the overall process of learning, showing how \\neach step worked in a structured timeline to provide the most complete and working understanding \\nand application of our specific learning style.” \\nThrough reflection, students find social connections with each other and build relationship \\nwith others. One student said that “Reading the reflections from the other group members made \\nus feel like we weren’t alone. The reflections were very similar.” Another student said that \\n“Reading others’ reflections allowed me to realize most people struggled with the same aspects',\n",
              "  'us feel like we weren’t alone. The reflections were very similar.” Another student said that \\n“Reading others’ reflections allowed me to realize most people struggled with the same aspects \\nand just how great my group really was.” One student said that by sharing reflections with each \\nother, students received positive comments from their classmates. Such actions “create a \\ncommunity amongst the learners within the course and that support system can be very beneficial \\nespecially in the online environment.”  \\n \\nConclusions and Discussions \\n           Reflection plays an important role in promoting adults’ learning. Reflection enables learners \\nto question their actions, values, and assumptions (McClure, n. d.). Through reflection, learners \\nreviewed and revisited the knowledge they had learned, explored the depth of the knowledge, and \\nreinforced the knowledge. Reflection allows learners to step back to review the whole process of',\n",
              "  'reviewed and revisited the knowledge they had learned, explored the depth of the knowledge, and \\nreinforced the knowledge. Reflection allows learners to step back to review the whole process of \\nlearning and to recognize the value of the knowledge holistically, not just fragments of knowledge.  \\nSome students’ reflections on their classmates’ work mainly focused on emotional and \\nsocial support, which are necessary for creating a collaborative and personalized learning \\nenvironment. However, the value of reflection is more than just giving emotional and social \\nsupport. In their reflections, students collectively shared some tacit information about how they \\nconducted their projects in different ways, how they handled difficult situations, how they \\ncomprehended the course materials, etc. Such reflection helped students revisit and evaluate their \\nown learning experiences, conceptualize the values and lessons gained in their learning, discover',\n",
              "  'comprehended the course materials, etc. Such reflection helped students revisit and evaluate their \\nown learning experiences, conceptualize the values and lessons gained in their learning, discover \\ntheir learning gaps, and synthesize, abstract, and interpret the rationales for what they did and why \\nthey did it in certain ways (Bowne, et al., 2010). Such reflection requires students to be able to \\nanalyze, synthesize, and evaluate the knowledge they learned, which is a higher level of knowledge \\ncompared with the comprehension and application of the knowledge students gained through their \\nprojects (Bloom, 1956).',\n",
              "  'Reflection in Learning \\nOnline Learning Journal – Volume 23 Issue 1 – March 2019                    5 105 \\nIn reflection, we recapitulate our actions and draw lessons from our past experiences \\n(Schwarz, Dreyfus & Hershkowits, 2004). Reflection enables students to rethink their experience \\nin order to improve practice and change their perspectives (Freed, n. d.). This study shows that \\nreflection helped students improve their work. Such improvement was shown in different ways. \\nFor example, through reflection, students could identify the areas that were not clear, look for the \\nbest strategies of completing their tasks, and identify the areas that were neglected by students.  \\nStudents also improved the cohesiveness and the overall quality of their work. Reflection shared \\nwith the whole class enabled students to read others’ reflections and understand each other’s \\nprojects better. Such reflection also provided students an opportunity to offer meaningful feedback',\n",
              "  \"with the whole class enabled students to read others’ reflections and understand each other’s \\nprojects better. Such reflection also provided students an opportunity to offer meaningful feedback \\nto each other and help each other improve their work in the future. Through reflections, students \\ngained not only cognitive knowledge, but also knowledge which includes “facts and concepts, \\nknowledge of procedures, and knowledge of conditions” (van Velzen, 2016, p. 23). Students also \\ngained metacognitive knowledge—general knowledge about how learners process information \\nand how learners understand their own learning process (Livingston, 1997).  \\n“Reflection on the actions, thoughts and feelings that have arisen in a learning event can \\noften provide an insight into learners' personal foundation of experience, into themselves, and into \\ntheir ability to learn from this particular situation” (Boud & Walker, 1990, p. 63). This study shows\",\n",
              "  'their ability to learn from this particular situation” (Boud & Walker, 1990, p. 63). This study shows \\nthat reflection gives students an opportunity to personalize their learning and provide more \\ncontextualized information about their projects (Agouridas & Race, 2007). In reflection, students \\nwere required to share the process of how they completed their assignments, through which the \\nimplicit knowledge became explicit. Such process description involves students’ personal \\nexperiences and their understanding of the theories, as well as their emotional reactions to the \\nevents which occurred during the process of completing the projects. Such first-hand experience \\nshared by peers provided the context for the theoretical knowledge, which is much easier for \\nstudents to learn, and can help students find connections between theories and practice, since \\nabstract knowledge contains little information relevant to the context from which abstract',\n",
              "  'students to learn, and can help students find connections between theories and practice, since \\nabstract knowledge contains little information relevant to the context from which abstract \\nknowledge is derived. Such input information contains surface cues pointing to an abstract system \\nthat makes learning tasks simpler (Goschke, 1997). Reflecting on an event can also reveal learners’ \\nexperiences and issues of which learners are not aware, which may lead to thoughts and actions \\nthat learners may not know of (Boud & Walker, 1990). This is indicated in this study when \\nreflection helped learners build personal connections between the theories and the community with \\nwhich they were familiar.  \\nSimilar to the idea pointed out by some scholars (Krutka, et al., 2014), collective reflection \\namong students brings different ideas and enhances students’ learning from various perspectives. \\nReflection shared with the whole class enabled students to read others’ reflections posted on their',\n",
              "  'among students brings different ideas and enhances students’ learning from various perspectives. \\nReflection shared with the whole class enabled students to read others’ reflections posted on their \\nblogs and to understand each other’s projects better. Such reflection also provided students an \\nopportunity to offer meaningful feedback to each other in their group blogs and to help each other \\nimprove their work in the future. By reading their peers’ reflections about how they completed \\ntheir projects, students were able to compare their projects with their peers’ projects, which \\nprovided students various new perspectives in learning. By reading others’ reflections, students \\nwere able to use others’ work as a reference and to identify the similarities and differences between \\ntheir work and that of their peers, as well as to see how the same work could be completed through \\ndifferent approaches, viewed through different lenses, or addressed in a new and better way.',\n",
              "  'their work and that of their peers, as well as to see how the same work could be completed through \\ndifferent approaches, viewed through different lenses, or addressed in a new and better way. \\nThrough comparison, students could relate their individual experience to a wider perspective and \\nview their work within a bigger picture (Agouridas & Race, 2007). I also reflected with students',\n",
              "  'Reflection in Learning \\nOnline Learning Journal – Volume 23 Issue 1 – March 2019                    5 106 \\nabout the actions I took for course improvement, my rationale for the online teaching practice, the \\nchanges I made in the online courses over the years, and my experience with previous online \\ncourses, which clarified questions students may have been puzzled about, and also provided \\nstudents references in terms of the changes in the online courses and the context and rationales for \\nsuch changes. Such reflection helps students increase their meta-cognitive knowledge. Students \\nwith meta-cognitive knowledge “have the ability to think through their learning in advance in \\nterms of which study and memorization techniques are likely to be most effective for them to learn \\na particular learning task” (van Velzen, 2016, p. 16). \\nThis study indicates that reflection embedded in designed tasks can help learners see the',\n",
              "  'a particular learning task” (van Velzen, 2016, p. 16). \\nThis study indicates that reflection embedded in designed tasks can help learners see the \\ninterconnections of the knowledge they are learning. Reflection embedded in the progressive \\ndesign of the assignment (one assignment serves as the foundation for the next one) allows students \\nto see the structural connections within assignments. Students were able to see the shifts of \\nknowledge from the concrete format to the generalized format, and how each portion of the \\nassignment interconnected to the other portions, and how one assignment connected to the rest. \\nSeeing such structural connections allows students to see how knowledge transforms hierarchically \\nfrom one level to the next (Bloom, 1956). \\n \\nReflection also enabled students to find social connections among their fellow learners. \\nMost of the students shared their emotions, their struggles, their communication problems, and the',\n",
              "  'Reflection also enabled students to find social connections among their fellow learners. \\nMost of the students shared their emotions, their struggles, their communication problems, and the \\ndifficulties they had in doing their group work. When students shared the process of their work in \\ntheir reflections, they found that their classmates had had similar experiences and struggles in their \\nown learning. This made the students feel closer to their peers and helped strengthen their \\ninterconnectedness. Further, they gained the ideas of how to solve such problems when some peers \\nshared their ideas of how they dealt with similar problems in their reflections. However, most \\nstudents’ reflections were at the stage of self-reflection and self-awareness (Yaffe, 2010), and were \\nnot raised to the stage of critical reflection and did not reach the conceptualized level of knowledge. \\nReflection should not just increase learners’ self-awareness but should also help learners',\n",
              "  'not raised to the stage of critical reflection and did not reach the conceptualized level of knowledge. \\nReflection should not just increase learners’ self-awareness but should also help learners \\nconceptualize their experience and extend their personal experience to a larger context (Kolb, 1984; \\nWinitzky, 1992). \\nImplications \\nTo facilitate reflection and to support learners in seeing the value of the knowledge they \\nhave learned and to reinforce the new knowledge, instructors can design assignments to include \\nreflection. Specifically, at the end of each assignment, instructors can ask students to reflect on the \\nprocess and value of the projects they have completed and conceptualize the lessons they have \\ngained to improve their projects. Such reflection on past actions (Roskos, Vukelich, & Risko, 2001) \\nwill require students to revisit their learning and discover its value as well as the issues that were \\nmissed.',\n",
              "  'will require students to revisit their learning and discover its value as well as the issues that were \\nmissed.    \\nTo improve learners’ meta-cognitive knowledge though reflection, instructors can design \\nprompt questions for the reflection, such as: What have you missed in your assignment? Which \\nparts of your assignment were not clear to you? What could you do to improve your work? What \\nwould you do differently, if you could redo your assignment? Instructors should encourage \\nstudents to perform critical reflection of other students’ work posted in their blogs by comparing \\ntheir work with their peers, and by pointing out the limitations of their peers’ work. Instructors can \\nalso provide examples from previous courses as references to show students the changes to the \\npresent course compared with previous courses, and the rationales for such changes. Such',\n",
              "  'Reflection in Learning \\nOnline Learning Journal – Volume 23 Issue 1 – March 2019                    5 107 \\nreflection shared with students aims to help students understand the methodology and techniques \\nused to support their learning and to increase students’ meta-cognitive knowledge (van Velzen, \\n2016). \\nPersonalizing knowledge and providing contextualized knowledge help learners \\nunderstand the abstract theories and how the knowledge they have learned relates to the practical \\nfield (Agouridas & Race, 2007, Boud & Walker, 1990, & Lamberts & Shanks, 1997). To help \\nlearners personalize and contextualize their learning, instructors can ask students to share the \\nexperience of how they completed their project, as well as how they understand the theories by \\ndemonstrating their own projects and by showing their peers the process and rationales for their \\nprojects in videos. Such reflection gives students the opportunities to share their “explicit and tacit',\n",
              "  'projects in videos. Such reflection gives students the opportunities to share their “explicit and tacit \\nknowledge” (Gausdal, 2008, p. 211) with their peers and allows their peers to see the knowledge \\nthat is otherwise hidden. Educators can help learners externalize their tacit mental activities by \\nprompting them to reflect on what they have done before, during or after their learning activities \\n(Lin et al., 1999). Instructors can require learners to reflect on content-specific knowledge and \\nprocess. To personalize the theory, instructors can ask students to reflect on which ideas in their \\nprojects remind them of their own experience, and how. Students can also reflect on daily practice, \\nevents, behaviors, etc. Such reflection focuses on both professional and private issues and can be \\nfacilitated by data from external resources, such as events produced electronically, structured \\nfeedback, or feedback from other persons (Kottkamp, 1990).',\n",
              "  'facilitated by data from external resources, such as events produced electronically, structured \\nfeedback, or feedback from other persons (Kottkamp, 1990).  \\nTechnology can also help learners make the tacit learning process explicit by showing what \\nthey have done and how. For example, learners can use tools such as video and graphics to not \\nonly document the process of how they solved the problems, but also how they traced, recorded, \\nand visually displayed their educational products.  \\nTo contextualize knowledge often involves revealing more personal information. This \\nrequires an environment which makes students feel comfortable and feel connected (Nilsson, \\nAndersson, & Blomqvist, 2017), especially in an online environment where it is hard for students \\nto be open to each other due to the lack of a physical interactions (Chang & Kang, 2016). The \\ninstructor can encourage students to reflect on the struggles they had and their emotional and',\n",
              "  'to be open to each other due to the lack of a physical interactions (Chang & Kang, 2016). The \\ninstructor can encourage students to reflect on the struggles they had and their emotional and \\npersonal stories in the process of their learning. Students can find connections through such stories \\nand can easily get connected to each other. In terms of what to reflect on to help students build \\nconnections with each other, instructors can recommend the following: the management system \\nthat students used to manage their projects and budget their time and group resources, the \\nmethodology such as how students approached their projects and how they completed their process; \\ntheir emotional experience, such as how they struggled in the course, and what kind of difficult \\nsituations they had, and how they solved these difficult situations. Other students may find the \\nconnections to some of these experiences and gain knowledge and trust from such reflections.',\n",
              "  'situations they had, and how they solved these difficult situations. Other students may find the \\nconnections to some of these experiences and gain knowledge and trust from such reflections. \\nTo help students see the structural connection of the assignments, instructors can embed \\nreflection in each assignment. The instructors can design these assignments based on the \\ninterconnections of these assignments and the learning objectives they would like students to \\nachieve, and ask students to reflect on their learning process and how one assignment contributes \\nto another in the final electronic demonstration. Presenting the educational product is also an act \\nof reflection, since learners can review the list of what they have completed and reflect on the \\nprocess of how they conveyed the ideas in their product (Lin et al., 1999). The instructor can also \\ndivide each assignment into several major parts and ask students to summarize the main ideas of',\n",
              "  'process of how they conveyed the ideas in their product (Lin et al., 1999). The instructor can also \\ndivide each assignment into several major parts and ask students to summarize the main ideas of \\neach part in a table at the end of each assignment. Such evaluative reflection serves as a checklist',\n",
              "  'Reflection in Learning \\nOnline Learning Journal – Volume 23 Issue 1 – March 2019                    5 108 \\nfor students to review each part of the knowledge they had learned and helps students see their \\nlearning product from the holistic perspective. \\nEducational Importance of the Study \\n \\nThis study contributes to the practice of online learning by pointing out how reflection \\nimpacts learning and helps learners to learn by increasing the depth of knowledge, identifying the \\nareas that need improvement, personalizing and contextualizing knowledge, providing \\ncomparative references in learning, and helping learners see the structural connections in \\nknowledge and creating social connections among them. This study provides foundational ideas \\nfor designing reflective activities to promote students learning in an online learning environment. \\nThis study also provides practical suggestions about how to embed reflections in learning activities',\n",
              "  'This study also provides practical suggestions about how to embed reflections in learning activities \\nto support students’ gaining different levels of knowledge.',\n",
              "  'Reflection in Learning \\nOnline Learning Journal – Volume 23 Issue 1 – March 2019                    5 109 \\nReferences \\n \\nAgouridas, V., & Race, P. (2007). Enhancing knowledge management in design education through \\nsystematic reflection in practice. Concurrent Engineering, 15 (1), 63-76.  \\nBerrill, D. P., & Addison, E. (2010). Repertoires of practice: Re-framing teaching portfolios. \\nTeaching and Teacher Education, 26(5), 1178-1185. doi:10.1016/j.tate.2010.02.005 \\nBloom, B.S. (1956). Taxonomy of educational objectives: The classification of educational goals. \\nNew York, NY: Longmans. \\nBoud, D., & Walker, D. (1990). Making the most of experience. Studies in Continuing \\nEducation, 12(2), 61-80. doi:10.1080/0158037900120201 \\nBowne, M., Cutler, K., DeBates, D., Gilkerson, D., & Stremmel, A. (2010). Pedagogical \\ndocumentation and collaborative dialogue as tools of inquiry for pre-service teachers in early',\n",
              "  'Bowne, M., Cutler, K., DeBates, D., Gilkerson, D., & Stremmel, A. (2010). Pedagogical \\ndocumentation and collaborative dialogue as tools of inquiry for pre-service teachers in early \\nchildhood education: An exploratory narrative. Journal of the Scholarship of Teaching and \\nLearning, 10 (2), 48 – 59.  \\nChang, B., & Kang, H. (2016). Challenges facing group work online. Distance Education, 37(1), 73-\\n88. doi:10.1080/01587919.2016.1154781 \\nClark, H. H., & Brennan, S. E. (1991). Grounding in communication. In L. B. Resnick, J. M. Levine, \\n& S. D. Teasley (Eds.). Perspectives on socially shared cognition (pp. 127-149). Washington \\nDC: American Psychological Association. \\nElo, S., & Kyngäs, H. (2008). The qualitative content analysis process. Journal of Advanced Nursing, \\n62(1), 107-115. doi:10.1111/j.1365-2648.2007.04569. \\nFreed, S. A. (n. d.). Metaphors and reflective dialogue online. Retrieved from \\nhttp://www.andrews.edu/~freed/MetaphorsOnlinel.pdf',\n",
              "  '62(1), 107-115. doi:10.1111/j.1365-2648.2007.04569. \\nFreed, S. A. (n. d.). Metaphors and reflective dialogue online. Retrieved from \\nhttp://www.andrews.edu/~freed/MetaphorsOnlinel.pdf  \\nGausdal, A. H. (2008). Developing regional communities of practice by network reflection: The case \\nof the Norwegian electronics industry. Entrepreneurship & Regional Development, 20(3), \\n209-235. doi:10.1080/08985620701748367 \\nGoschke, T. (1997). Implicit learning and unconscious knowledge: Mental representation, \\ncomputational mechanisms, and brain structures. In K. Lamberts, & D. R., Shanks \\n(Eds.). Knowledge, concepts, and categories (pp. 247-333). Cambridge, Mass: MIT Press. \\nHelyer, R. (2015). Learning through reflection: The critical role of reflection in work-based learning \\n(WBL). Journal of Work-Applied Management, 7(1), 15-27. Retrieved from \\nhttps://doi.org/10.1108/JWAM-10-2015-003 \\nHelyer, R., & Kay, J. (2015). Building capabilities for your future. In Helyer, R. (Ed.), The Work-',\n",
              "  'https://doi.org/10.1108/JWAM-10-2015-003 \\nHelyer, R., & Kay, J. (2015). Building capabilities for your future. In Helyer, R. (Ed.), The Work-\\nbased learning student handbook (2nd ed., pp. 31-50). Palgrave. \\nKolb, D. A. (1984). Experiential learning: Experience as the source of learning and \\ndevelopment (Vol. 1). Englewood Cliffs, NJ: Prentice-Hall. \\nKottkamp, R. B. (1990). Means for facilitating reflection. Education and Urban Society, 22 (2), 182-\\n203. \\nKrutka, D. G., Bergman, D. J., Flores, R., Mason, K., & Jack, A. R. (2014). Microblogging about \\nteaching: Nurturing participatory cultures through collaborative online reflection with pre-\\nservice teachers. Teaching and Teacher Education, 40, 83-93. doi:10.1016/j.tate.2014.02.002',\n",
              "  'Reflection in Learning \\nOnline Learning Journal – Volume 23 Issue 1 – March 2019                    5 110 \\nLarsen, D. P., London, D. A., & Emke, A. R. (2016). Using reflection to influence practice: Student \\nperceptions of daily reflection in clinical education. Perspectives on Medical Education, 5(5), \\n285-291. doi:10.1007/s40037-016-0293-1 \\nLin, X., Hmelo, C., Kinzer, C. K., & Secules, T. J. (1999). Designing technology to support \\nreflection. Educational Technology Research and Development, 47(3), 43-62. \\ndoi:10.1007/BF02299633 \\nLivingston, J. A. (1997). Metacognition: An overview. Retrieved from \\nhttp://gse.buffalo.edu/fas/shuell/cep564/metacog.htm \\nMcClure, P. (n. d.). Reflection on practice. Retrieved from \\nhttp://www.supervisionandcoaching.com/pdf/Reflection%20on%20Practice%20(McClure%2\\n0undated).pdf \\nNilsson, M., Andersson, I., & Blomqvist, K. (2017). Coexisting needs: Paradoxes in collegial \\nreflection—The development of a pragmatic method for reflection. Education Research',\n",
              "  '0undated).pdf \\nNilsson, M., Andersson, I., & Blomqvist, K. (2017). Coexisting needs: Paradoxes in collegial \\nreflection—The development of a pragmatic method for reflection. Education Research \\nInternational, 2017, 1-12. doi:10.1155/2017/4851067 \\nOvens, A., & Tinning, R. (2009). Reflection as situated practice: A memory-work study of lived \\nexperience in teacher education. Teaching and Teacher Education, 25(8), 1125-1131. \\ndoi:10.1016/j.tate.2009.03.013 \\nPersson, E. K., Kvist, L. J., & Ekelin, M. (2018). Midwifery students’ experiences of learning \\nthrough the use of written reflections – An interview study. Nurse Education in Practice, 30, \\n73-78. doi:10.1016/j.nepr.2018.01.005 \\nPolit, D. F., & Beck, C. T. (2010). Generalization in quantitative and qualitative research: Myths and \\nstrategies. International Journal of Nursing Studies, 47(11), 1451-1458. \\ndoi:10.1016/j.ijnurstu.2010.06.004',\n",
              "  'strategies. International Journal of Nursing Studies, 47(11), 1451-1458. \\ndoi:10.1016/j.ijnurstu.2010.06.004 \\nRoberts, C. (2008). Developing future leaders: The role of reflection in the classroom. Journal of \\nLeadership Education, 7(1), 116-130. doi:10.12806/V7/I1/AB1 \\nRoskos, K., Vukelich, C., & Risko, V. (2001). Reflection and learning to teach reading: A critical \\nreview of literacy and general teacher education studies. Journal of Literacy Research, 33(4), \\n595-635. doi:10.1080/10862960109548127 \\nSchon, D. A. (1987). Educating the reflective practitioner: Toward a new design for teaching and \\nlearning in the professions. San Francisco: Jossey-Bass  \\nSchwarz, B., Dreyfus, T., & Hershkowits, N. H. R. (2004) . Teacher guidance of knowledge \\nconstruction. Proceedings of the 28th Conference of the International Group for the \\nPsychology of Mathematics Education, 4, 169-176. Retrieved from http://www.kurims.kyoto-\\nu.ac.jp/EMIS/proceedings/PME28/RR/RR175_Schwarz.pdf',\n",
              "  'Psychology of Mathematics Education, 4, 169-176. Retrieved from http://www.kurims.kyoto-\\nu.ac.jp/EMIS/proceedings/PME28/RR/RR175_Schwarz.pdf  \\nvan Velzen, J. (2016). Metacognitive learning: Advancing learning by developing general knowledge \\nof the learning process (1st ed.). Cham: Springer. doi:10.1007/978-3-319-24433-4 \\nWinitzky, N. (1992). Structure and process in thinking about classroom management: An exploratory \\nstudy of prospective teachers. Teaching and Teacher Education, 8(1), 1-14. \\ndoi:10.1016/0742-051X(92)90036-3 \\nYaffe, E. (2010). The reflective beginner: Using theory and practice to facilitate reflection among \\nnewly qualified teachers. Reflective Practice, 11(3), 381-391. \\ndoi:10.1080/14623943.2010.490070'],\n",
              " 'uris': None,\n",
              " 'included': ['metadatas', 'documents'],\n",
              " 'data': None,\n",
              " 'metadatas': [None,\n",
              "  None,\n",
              "  None,\n",
              "  None,\n",
              "  None,\n",
              "  None,\n",
              "  None,\n",
              "  None,\n",
              "  None,\n",
              "  None,\n",
              "  None,\n",
              "  None,\n",
              "  None,\n",
              "  None,\n",
              "  None,\n",
              "  None,\n",
              "  None,\n",
              "  None,\n",
              "  None,\n",
              "  None,\n",
              "  None,\n",
              "  None,\n",
              "  None,\n",
              "  None,\n",
              "  None,\n",
              "  None,\n",
              "  None,\n",
              "  None,\n",
              "  None,\n",
              "  None,\n",
              "  None,\n",
              "  None,\n",
              "  None,\n",
              "  None,\n",
              "  None,\n",
              "  None,\n",
              "  None,\n",
              "  None,\n",
              "  None,\n",
              "  None,\n",
              "  None,\n",
              "  None,\n",
              "  None,\n",
              "  None,\n",
              "  None,\n",
              "  None,\n",
              "  None,\n",
              "  None,\n",
              "  None,\n",
              "  None,\n",
              "  None,\n",
              "  None,\n",
              "  None,\n",
              "  None,\n",
              "  None,\n",
              "  None,\n",
              "  None,\n",
              "  None,\n",
              "  None,\n",
              "  None,\n",
              "  None,\n",
              "  None,\n",
              "  None,\n",
              "  None,\n",
              "  None,\n",
              "  None,\n",
              "  None,\n",
              "  None,\n",
              "  None,\n",
              "  None,\n",
              "  None,\n",
              "  None,\n",
              "  None,\n",
              "  None,\n",
              "  None,\n",
              "  None]}"
            ]
          },
          "metadata": {},
          "execution_count": 12
        }
      ]
    },
    {
      "cell_type": "markdown",
      "source": [
        "# 1) Similarity based retrival"
      ],
      "metadata": {
        "id": "6poiuCTZSMLc"
      }
    },
    {
      "cell_type": "code",
      "source": [
        "rag=db.as_retriever(serch_type=\"similarity\",\n",
        "                    search_kwargs={\n",
        "                        \"k\":3\n",
        "                    })"
      ],
      "metadata": {
        "id": "enN7yiUlRmcu"
      },
      "execution_count": 13,
      "outputs": []
    },
    {
      "cell_type": "code",
      "source": [
        "user_query=input(\"enter your query:-\")"
      ],
      "metadata": {
        "colab": {
          "base_uri": "https://localhost:8080/"
        },
        "id": "Y06OPfCa95Gh",
        "outputId": "b7cea320-62b9-422e-b042-39319860b442"
      },
      "execution_count": 14,
      "outputs": [
        {
          "name": "stdout",
          "output_type": "stream",
          "text": [
            "enter your query:-what is the mean of reflection ?\n"
          ]
        }
      ]
    },
    {
      "cell_type": "code",
      "source": [
        "rag.invoke(input=user_query)"
      ],
      "metadata": {
        "colab": {
          "base_uri": "https://localhost:8080/"
        },
        "id": "NcmAz7C2-Eb3",
        "outputId": "854b058b-cbb3-4ad2-f82e-2396b7cef23b"
      },
      "execution_count": 15,
      "outputs": [
        {
          "output_type": "execute_result",
          "data": {
            "text/plain": [
              "[Document(id='doc_49', metadata={}, page_content='Reflection in Learning \\nOnline Learning Journal – Volume 23 Issue 1 – March 2019                    5 105 \\nIn reflection, we recapitulate our actions and draw lessons from our past experiences \\n(Schwarz, Dreyfus & Hershkowits, 2004). Reflection enables students to rethink their experience \\nin order to improve practice and change their perspectives (Freed, n. d.). This study shows that \\nreflection helped students improve their work. Such improvement was shown in different ways. \\nFor example, through reflection, students could identify the areas that were not clear, look for the \\nbest strategies of completing their tasks, and identify the areas that were neglected by students.  \\nStudents also improved the cohesiveness and the overall quality of their work. Reflection shared \\nwith the whole class enabled students to read others’ reflections and understand each other’s \\nprojects better. Such reflection also provided students an opportunity to offer meaningful feedback'),\n",
              " Document(id='doc_4', metadata={}, page_content='Reflection is not just about looking back on what happened, it is encompassing. People \\ninstinctively reflect on events, perhaps to better understand what has happened and make \\nsense of it; the idea of learning from the past, especially trying not to repeat mistakes is \\nwell established. (p.22)  \\nReflection enables learners to generalize the main ideas, principles, and abstract concepts \\nfrom experience (Kolb, 1984). The process of reflection includes debriefing and reframing to \\nexpand students’ beliefs and understanding, using journaling as a form of reflection to help \\nstudents develop conscious awareness, and using prompts and feedback to guide students’ \\nreflection (Roskos, Vukelich, & Risko, 2001). Clark and Brennan (1991) thought that reflective \\ndialogue can facilitate learners to create knowledge and generalize practical examples into explicit \\nknowledge. In reflective dialogue, students “integrate and generalize accepted arguments. They'),\n",
              " Document(id='doc_8', metadata={}, page_content='Reflection in Learning \\nOnline Learning Journal – Volume 23 Issue 1 – March 2019                    5 97 \\nReflection stimulates students to question their philosophy and beliefs and make connections \\nbetween students’ beliefs and their assignments, and to tie theory to students’ personal beliefs. \\n“Developing a reflection means that an individual begins to automatically challenge and question \\nwhy tasks were undertaken in a certain way rather than how they were carried out (Helyer, 2015, \\np.23).  Ovens and Tinning (2009) believed that through engaging in reflective activity, students \\n“could begin to peel back some of the layers of their social reality” (p.1130) and search for the \\nsocial structures which have contributed to their oppression.  \\nReflection is not just an individual activity. Reflection can also be a collective activity. \\n“Joint reflection with peers aids individuals as they refine, develop, and enhance teaching skills')]"
            ]
          },
          "metadata": {},
          "execution_count": 15
        }
      ]
    },
    {
      "cell_type": "markdown",
      "source": [
        "#2) maximum marginal retrival\n",
        "\n",
        "use to get diverse context for query."
      ],
      "metadata": {
        "id": "R6t9nY8w-lEj"
      }
    },
    {
      "cell_type": "code",
      "source": [
        "rag=db.as_retriever(search_type=\"mmr\",\n",
        "                    search_kwargs={\n",
        "                        \"k\":3,\n",
        "                        \"fetch_k\":10,\n",
        "                    })"
      ],
      "metadata": {
        "id": "f3g6czEB-QK_"
      },
      "execution_count": 16,
      "outputs": []
    },
    {
      "cell_type": "code",
      "source": [
        "rag.invoke(user_query)"
      ],
      "metadata": {
        "colab": {
          "base_uri": "https://localhost:8080/"
        },
        "id": "SdUffQnm_Hes",
        "outputId": "cddffe59-cbaf-4f1b-e7f3-9875608f1297"
      },
      "execution_count": 17,
      "outputs": [
        {
          "output_type": "execute_result",
          "data": {
            "text/plain": [
              "[Document(id='doc_49', metadata={}, page_content='Reflection in Learning \\nOnline Learning Journal – Volume 23 Issue 1 – March 2019                    5 105 \\nIn reflection, we recapitulate our actions and draw lessons from our past experiences \\n(Schwarz, Dreyfus & Hershkowits, 2004). Reflection enables students to rethink their experience \\nin order to improve practice and change their perspectives (Freed, n. d.). This study shows that \\nreflection helped students improve their work. Such improvement was shown in different ways. \\nFor example, through reflection, students could identify the areas that were not clear, look for the \\nbest strategies of completing their tasks, and identify the areas that were neglected by students.  \\nStudents also improved the cohesiveness and the overall quality of their work. Reflection shared \\nwith the whole class enabled students to read others’ reflections and understand each other’s \\nprojects better. Such reflection also provided students an opportunity to offer meaningful feedback'),\n",
              " Document(id='doc_6', metadata={}, page_content='back and reflect on how they actually make decisions and solve problems and how a \\nparticular set of problem-solving strategies is appropriate or might be improved. (p. 43) \\nReflection is to evaluate, synthesize, and abstract the concrete examples shared. It reveals the \\nimportant features and relations which are neglected in abstract and explicit knowledge.  \\nAgouridas and Race (2007) said that reflection is a process of personalizing and \\nunderstanding the contents, process, and the rationales for what we have learned. Through \\nreflection, we relate our personal experience to a wider perspective, which helps us to see the \\nbigger picture. Helyer, (2015) stated that the process of reflection utilizes knowledge that “lies \\ndeep within (tacit knowledge) – so deep it is often taken for granted and not explicitly \\nacknowledged, but it is the data humans use to make instinctive decisions based upon accumulated'),\n",
              " Document(id='doc_16', metadata={}, page_content='Based on the ideas of reflection in literature, various reflections were designed to meet \\nlearners’ professional and private/emotional needs. At the professional level, to help students \\nunderstand the values of assignments and how these can contribute to their professional work, \\nreflection was embedded into the assignments.  \\nThe followings are the specific procedures in the reflection design: \\nFirst, after students completed each assignment, they were required to reflect on content-\\nspecific knowledge, their learning processes, and the value of their learning. Specifically, at the \\nend of each assignment, students were required to reflect on the highlights, or the uniqueness, or \\nthe most significant parts of their assignment, the process of how they completed their assignments, \\nthe lessons/tips they gained in this process, and on other information they wanted to share. To \\nreinforce their learning, students were also required to summarize the main ideas of each')]"
            ]
          },
          "metadata": {},
          "execution_count": 17
        }
      ]
    },
    {
      "cell_type": "markdown",
      "source": [
        "#3) similarity with threshold"
      ],
      "metadata": {
        "id": "kl-Zx5rt_oTD"
      }
    },
    {
      "cell_type": "code",
      "source": [
        "rag=db.as_retriever(search_type=\"similarity_score_threshold\",\n",
        "                    search_kwargs={\n",
        "                        \"k\":3,\n",
        "                        \"score_threshold\":0.5\n",
        "                    })"
      ],
      "metadata": {
        "id": "jSILlSR2_Nmu"
      },
      "execution_count": 23,
      "outputs": []
    },
    {
      "cell_type": "code",
      "source": [
        "rag.invoke(user_query)"
      ],
      "metadata": {
        "colab": {
          "base_uri": "https://localhost:8080/"
        },
        "id": "V7DGotnFANy5",
        "outputId": "deb26a9c-a5c3-43aa-cde2-49a4fd351fb8"
      },
      "execution_count": 24,
      "outputs": [
        {
          "output_type": "execute_result",
          "data": {
            "text/plain": [
              "[Document(id='doc_49', metadata={}, page_content='Reflection in Learning \\nOnline Learning Journal – Volume 23 Issue 1 – March 2019                    5 105 \\nIn reflection, we recapitulate our actions and draw lessons from our past experiences \\n(Schwarz, Dreyfus & Hershkowits, 2004). Reflection enables students to rethink their experience \\nin order to improve practice and change their perspectives (Freed, n. d.). This study shows that \\nreflection helped students improve their work. Such improvement was shown in different ways. \\nFor example, through reflection, students could identify the areas that were not clear, look for the \\nbest strategies of completing their tasks, and identify the areas that were neglected by students.  \\nStudents also improved the cohesiveness and the overall quality of their work. Reflection shared \\nwith the whole class enabled students to read others’ reflections and understand each other’s \\nprojects better. Such reflection also provided students an opportunity to offer meaningful feedback'),\n",
              " Document(id='doc_4', metadata={}, page_content='Reflection is not just about looking back on what happened, it is encompassing. People \\ninstinctively reflect on events, perhaps to better understand what has happened and make \\nsense of it; the idea of learning from the past, especially trying not to repeat mistakes is \\nwell established. (p.22)  \\nReflection enables learners to generalize the main ideas, principles, and abstract concepts \\nfrom experience (Kolb, 1984). The process of reflection includes debriefing and reframing to \\nexpand students’ beliefs and understanding, using journaling as a form of reflection to help \\nstudents develop conscious awareness, and using prompts and feedback to guide students’ \\nreflection (Roskos, Vukelich, & Risko, 2001). Clark and Brennan (1991) thought that reflective \\ndialogue can facilitate learners to create knowledge and generalize practical examples into explicit \\nknowledge. In reflective dialogue, students “integrate and generalize accepted arguments. They'),\n",
              " Document(id='doc_8', metadata={}, page_content='Reflection in Learning \\nOnline Learning Journal – Volume 23 Issue 1 – March 2019                    5 97 \\nReflection stimulates students to question their philosophy and beliefs and make connections \\nbetween students’ beliefs and their assignments, and to tie theory to students’ personal beliefs. \\n“Developing a reflection means that an individual begins to automatically challenge and question \\nwhy tasks were undertaken in a certain way rather than how they were carried out (Helyer, 2015, \\np.23).  Ovens and Tinning (2009) believed that through engaging in reflective activity, students \\n“could begin to peel back some of the layers of their social reality” (p.1130) and search for the \\nsocial structures which have contributed to their oppression.  \\nReflection is not just an individual activity. Reflection can also be a collective activity. \\n“Joint reflection with peers aids individuals as they refine, develop, and enhance teaching skills')]"
            ]
          },
          "metadata": {},
          "execution_count": 24
        }
      ]
    },
    {
      "cell_type": "markdown",
      "source": [
        "#4) Custom retrival with similarity score"
      ],
      "metadata": {
        "id": "TqtqQw0OBzny"
      }
    },
    {
      "cell_type": "code",
      "source": [
        "db.similarity_search_with_relevance_scores(user_query,k=3,\n",
        "    score_threshold=0.6)"
      ],
      "metadata": {
        "colab": {
          "base_uri": "https://localhost:8080/"
        },
        "id": "xPh7WKhKBTj7",
        "outputId": "d680f428-2faa-4a43-9ee1-d0417269b79a"
      },
      "execution_count": 31,
      "outputs": [
        {
          "output_type": "stream",
          "name": "stderr",
          "text": [
            "WARNING:langchain_core.vectorstores.base:No relevant docs were retrieved using the relevance score threshold 0.6\n"
          ]
        },
        {
          "output_type": "execute_result",
          "data": {
            "text/plain": [
              "[]"
            ]
          },
          "metadata": {},
          "execution_count": 31
        }
      ]
    },
    {
      "cell_type": "code",
      "source": [
        "db.similarity_search_with_relevance_scores(user_query,k=3,\n",
        "    score_threshold=0.5)   #gives document with similarity score"
      ],
      "metadata": {
        "colab": {
          "base_uri": "https://localhost:8080/"
        },
        "id": "OuYV06QpCWkd",
        "outputId": "2435640b-434c-46f3-d52c-fc3c9bb3e82c"
      },
      "execution_count": 32,
      "outputs": [
        {
          "output_type": "execute_result",
          "data": {
            "text/plain": [
              "[(Document(id='doc_49', metadata={}, page_content='Reflection in Learning \\nOnline Learning Journal – Volume 23 Issue 1 – March 2019                    5 105 \\nIn reflection, we recapitulate our actions and draw lessons from our past experiences \\n(Schwarz, Dreyfus & Hershkowits, 2004). Reflection enables students to rethink their experience \\nin order to improve practice and change their perspectives (Freed, n. d.). This study shows that \\nreflection helped students improve their work. Such improvement was shown in different ways. \\nFor example, through reflection, students could identify the areas that were not clear, look for the \\nbest strategies of completing their tasks, and identify the areas that were neglected by students.  \\nStudents also improved the cohesiveness and the overall quality of their work. Reflection shared \\nwith the whole class enabled students to read others’ reflections and understand each other’s \\nprojects better. Such reflection also provided students an opportunity to offer meaningful feedback'),\n",
              "  0.5344478487968445),\n",
              " (Document(id='doc_4', metadata={}, page_content='Reflection is not just about looking back on what happened, it is encompassing. People \\ninstinctively reflect on events, perhaps to better understand what has happened and make \\nsense of it; the idea of learning from the past, especially trying not to repeat mistakes is \\nwell established. (p.22)  \\nReflection enables learners to generalize the main ideas, principles, and abstract concepts \\nfrom experience (Kolb, 1984). The process of reflection includes debriefing and reframing to \\nexpand students’ beliefs and understanding, using journaling as a form of reflection to help \\nstudents develop conscious awareness, and using prompts and feedback to guide students’ \\nreflection (Roskos, Vukelich, & Risko, 2001). Clark and Brennan (1991) thought that reflective \\ndialogue can facilitate learners to create knowledge and generalize practical examples into explicit \\nknowledge. In reflective dialogue, students “integrate and generalize accepted arguments. They'),\n",
              "  0.5100361108779907),\n",
              " (Document(id='doc_8', metadata={}, page_content='Reflection in Learning \\nOnline Learning Journal – Volume 23 Issue 1 – March 2019                    5 97 \\nReflection stimulates students to question their philosophy and beliefs and make connections \\nbetween students’ beliefs and their assignments, and to tie theory to students’ personal beliefs. \\n“Developing a reflection means that an individual begins to automatically challenge and question \\nwhy tasks were undertaken in a certain way rather than how they were carried out (Helyer, 2015, \\np.23).  Ovens and Tinning (2009) believed that through engaging in reflective activity, students \\n“could begin to peel back some of the layers of their social reality” (p.1130) and search for the \\nsocial structures which have contributed to their oppression.  \\nReflection is not just an individual activity. Reflection can also be a collective activity. \\n“Joint reflection with peers aids individuals as they refine, develop, and enhance teaching skills'),\n",
              "  0.5012300610542297)]"
            ]
          },
          "metadata": {},
          "execution_count": 32
        }
      ]
    },
    {
      "cell_type": "code",
      "source": [
        "db.similarity_search_with_score(user_query,k=3)  #it gives document with distance ."
      ],
      "metadata": {
        "colab": {
          "base_uri": "https://localhost:8080/"
        },
        "id": "nuj1QxsSFdDq",
        "outputId": "cad3c995-4ac2-4089-d603-70338d05c4eb"
      },
      "execution_count": 39,
      "outputs": [
        {
          "output_type": "execute_result",
          "data": {
            "text/plain": [
              "[(Document(id='doc_49', metadata={}, page_content='Reflection in Learning \\nOnline Learning Journal – Volume 23 Issue 1 – March 2019                    5 105 \\nIn reflection, we recapitulate our actions and draw lessons from our past experiences \\n(Schwarz, Dreyfus & Hershkowits, 2004). Reflection enables students to rethink their experience \\nin order to improve practice and change their perspectives (Freed, n. d.). This study shows that \\nreflection helped students improve their work. Such improvement was shown in different ways. \\nFor example, through reflection, students could identify the areas that were not clear, look for the \\nbest strategies of completing their tasks, and identify the areas that were neglected by students.  \\nStudents also improved the cohesiveness and the overall quality of their work. Reflection shared \\nwith the whole class enabled students to read others’ reflections and understand each other’s \\nprojects better. Such reflection also provided students an opportunity to offer meaningful feedback'),\n",
              "  0.4655521512031555),\n",
              " (Document(id='doc_4', metadata={}, page_content='Reflection is not just about looking back on what happened, it is encompassing. People \\ninstinctively reflect on events, perhaps to better understand what has happened and make \\nsense of it; the idea of learning from the past, especially trying not to repeat mistakes is \\nwell established. (p.22)  \\nReflection enables learners to generalize the main ideas, principles, and abstract concepts \\nfrom experience (Kolb, 1984). The process of reflection includes debriefing and reframing to \\nexpand students’ beliefs and understanding, using journaling as a form of reflection to help \\nstudents develop conscious awareness, and using prompts and feedback to guide students’ \\nreflection (Roskos, Vukelich, & Risko, 2001). Clark and Brennan (1991) thought that reflective \\ndialogue can facilitate learners to create knowledge and generalize practical examples into explicit \\nknowledge. In reflective dialogue, students “integrate and generalize accepted arguments. They'),\n",
              "  0.4899638891220093),\n",
              " (Document(id='doc_8', metadata={}, page_content='Reflection in Learning \\nOnline Learning Journal – Volume 23 Issue 1 – March 2019                    5 97 \\nReflection stimulates students to question their philosophy and beliefs and make connections \\nbetween students’ beliefs and their assignments, and to tie theory to students’ personal beliefs. \\n“Developing a reflection means that an individual begins to automatically challenge and question \\nwhy tasks were undertaken in a certain way rather than how they were carried out (Helyer, 2015, \\np.23).  Ovens and Tinning (2009) believed that through engaging in reflective activity, students \\n“could begin to peel back some of the layers of their social reality” (p.1130) and search for the \\nsocial structures which have contributed to their oppression.  \\nReflection is not just an individual activity. Reflection can also be a collective activity. \\n“Joint reflection with peers aids individuals as they refine, develop, and enhance teaching skills'),\n",
              "  0.49876993894577026)]"
            ]
          },
          "metadata": {},
          "execution_count": 39
        }
      ]
    },
    {
      "cell_type": "code",
      "source": [
        "cosine_similarity_fn=db._select_relevance_score_fn()"
      ],
      "metadata": {
        "id": "ZgiMi9y8DCcS"
      },
      "execution_count": 33,
      "outputs": []
    },
    {
      "cell_type": "code",
      "source": [
        "cosine_similarity_fn(0.49876993894577026)"
      ],
      "metadata": {
        "colab": {
          "base_uri": "https://localhost:8080/"
        },
        "id": "0vG2TqB1DvdB",
        "outputId": "274994af-87d1-4650-f79f-feae95f60f16"
      },
      "execution_count": 40,
      "outputs": [
        {
          "output_type": "execute_result",
          "data": {
            "text/plain": [
              "0.5012300610542297"
            ]
          },
          "metadata": {},
          "execution_count": 40
        }
      ]
    },
    {
      "cell_type": "markdown",
      "source": [
        "so create a custom retrival who gives us document with cosine similarity score."
      ],
      "metadata": {
        "id": "ZNiNTAw0D-WI"
      }
    },
    {
      "cell_type": "code",
      "source": [
        "from typing import List\n",
        "from langchain_core.documents import Document\n",
        "from langchain_core.runnables import chain\n",
        "\n",
        "@chain\n",
        "def custom_retriever(query: str, topk=3, threshold_score=0.3) -> List[Document]:\n",
        "    # get similarity conversion function (converts cosine distance to similarity)\n",
        "    cosine_sim = db._select_relevance_score_fn()\n",
        "    # get topk documents with lowest cosine distance\n",
        "    docs, scores = zip(*db.similarity_search_with_score(query, k=topk))\n",
        "    final_docs = []\n",
        "    for doc, score in zip(docs, scores):\n",
        "        # convert cosine distance to similarity\n",
        "        score = cosine_sim(score)\n",
        "        doc.metadata[\"score\"] = round(score, 3)\n",
        "        # check if score is above threshold\n",
        "        if score > threshold_score:\n",
        "            final_docs.append(doc)\n",
        "\n",
        "    return final_docs"
      ],
      "metadata": {
        "id": "Y9T41BtqD4Gg"
      },
      "execution_count": 35,
      "outputs": []
    },
    {
      "cell_type": "code",
      "source": [
        "custom_retriever.invoke(user_query)"
      ],
      "metadata": {
        "colab": {
          "base_uri": "https://localhost:8080/"
        },
        "id": "nf8qxrYzE_L1",
        "outputId": "0be18a7e-1f75-4409-dc74-406058288588"
      },
      "execution_count": 36,
      "outputs": [
        {
          "output_type": "execute_result",
          "data": {
            "text/plain": [
              "[Document(id='doc_49', metadata={'score': 0.534}, page_content='Reflection in Learning \\nOnline Learning Journal – Volume 23 Issue 1 – March 2019                    5 105 \\nIn reflection, we recapitulate our actions and draw lessons from our past experiences \\n(Schwarz, Dreyfus & Hershkowits, 2004). Reflection enables students to rethink their experience \\nin order to improve practice and change their perspectives (Freed, n. d.). This study shows that \\nreflection helped students improve their work. Such improvement was shown in different ways. \\nFor example, through reflection, students could identify the areas that were not clear, look for the \\nbest strategies of completing their tasks, and identify the areas that were neglected by students.  \\nStudents also improved the cohesiveness and the overall quality of their work. Reflection shared \\nwith the whole class enabled students to read others’ reflections and understand each other’s \\nprojects better. Such reflection also provided students an opportunity to offer meaningful feedback'),\n",
              " Document(id='doc_4', metadata={'score': 0.51}, page_content='Reflection is not just about looking back on what happened, it is encompassing. People \\ninstinctively reflect on events, perhaps to better understand what has happened and make \\nsense of it; the idea of learning from the past, especially trying not to repeat mistakes is \\nwell established. (p.22)  \\nReflection enables learners to generalize the main ideas, principles, and abstract concepts \\nfrom experience (Kolb, 1984). The process of reflection includes debriefing and reframing to \\nexpand students’ beliefs and understanding, using journaling as a form of reflection to help \\nstudents develop conscious awareness, and using prompts and feedback to guide students’ \\nreflection (Roskos, Vukelich, & Risko, 2001). Clark and Brennan (1991) thought that reflective \\ndialogue can facilitate learners to create knowledge and generalize practical examples into explicit \\nknowledge. In reflective dialogue, students “integrate and generalize accepted arguments. They'),\n",
              " Document(id='doc_8', metadata={'score': 0.501}, page_content='Reflection in Learning \\nOnline Learning Journal – Volume 23 Issue 1 – March 2019                    5 97 \\nReflection stimulates students to question their philosophy and beliefs and make connections \\nbetween students’ beliefs and their assignments, and to tie theory to students’ personal beliefs. \\n“Developing a reflection means that an individual begins to automatically challenge and question \\nwhy tasks were undertaken in a certain way rather than how they were carried out (Helyer, 2015, \\np.23).  Ovens and Tinning (2009) believed that through engaging in reflective activity, students \\n“could begin to peel back some of the layers of their social reality” (p.1130) and search for the \\nsocial structures which have contributed to their oppression.  \\nReflection is not just an individual activity. Reflection can also be a collective activity. \\n“Joint reflection with peers aids individuals as they refine, develop, and enhance teaching skills')]"
            ]
          },
          "metadata": {},
          "execution_count": 36
        }
      ]
    },
    {
      "cell_type": "markdown",
      "source": [
        "#5)Multi Query Retrieval"
      ],
      "metadata": {
        "id": "svxAxZmIGtHX"
      }
    },
    {
      "cell_type": "code",
      "source": [
        "from langchain.retrievers.multi_query import MultiQueryRetriever\n",
        "from langchain_openai import ChatOpenAI\n"
      ],
      "metadata": {
        "id": "MxTh2fVrFPa_"
      },
      "execution_count": 41,
      "outputs": []
    },
    {
      "cell_type": "code",
      "source": [
        "llm = ChatOpenAI(model=\"gpt-4o-mini\")"
      ],
      "metadata": {
        "id": "IHm9fRtxHabd"
      },
      "execution_count": 43,
      "outputs": []
    },
    {
      "cell_type": "code",
      "source": [
        "retrival=db.as_retriever(search_type=\"similarity\",\n",
        "                         search_kwargs={\n",
        "                             \"k\":3\n",
        "                         })"
      ],
      "metadata": {
        "id": "nyAJr8daHkVW"
      },
      "execution_count": 44,
      "outputs": []
    },
    {
      "cell_type": "code",
      "source": [
        "rag=MultiQueryRetriever.from_llm(llm=llm,\n",
        "                                 retriever=retrival)"
      ],
      "metadata": {
        "id": "24X4ii1nH8m6"
      },
      "execution_count": 45,
      "outputs": []
    },
    {
      "cell_type": "code",
      "source": [
        "rag.invoke(user_query)"
      ],
      "metadata": {
        "colab": {
          "base_uri": "https://localhost:8080/"
        },
        "id": "IxhJ_MDKIdQQ",
        "outputId": "7d2b5d6a-6af4-40c8-82c1-3a55d96f824a"
      },
      "execution_count": 46,
      "outputs": [
        {
          "output_type": "execute_result",
          "data": {
            "text/plain": [
              "[Document(id='doc_6', metadata={}, page_content='back and reflect on how they actually make decisions and solve problems and how a \\nparticular set of problem-solving strategies is appropriate or might be improved. (p. 43) \\nReflection is to evaluate, synthesize, and abstract the concrete examples shared. It reveals the \\nimportant features and relations which are neglected in abstract and explicit knowledge.  \\nAgouridas and Race (2007) said that reflection is a process of personalizing and \\nunderstanding the contents, process, and the rationales for what we have learned. Through \\nreflection, we relate our personal experience to a wider perspective, which helps us to see the \\nbigger picture. Helyer, (2015) stated that the process of reflection utilizes knowledge that “lies \\ndeep within (tacit knowledge) – so deep it is often taken for granted and not explicitly \\nacknowledged, but it is the data humans use to make instinctive decisions based upon accumulated'),\n",
              " Document(id='doc_4', metadata={}, page_content='Reflection is not just about looking back on what happened, it is encompassing. People \\ninstinctively reflect on events, perhaps to better understand what has happened and make \\nsense of it; the idea of learning from the past, especially trying not to repeat mistakes is \\nwell established. (p.22)  \\nReflection enables learners to generalize the main ideas, principles, and abstract concepts \\nfrom experience (Kolb, 1984). The process of reflection includes debriefing and reframing to \\nexpand students’ beliefs and understanding, using journaling as a form of reflection to help \\nstudents develop conscious awareness, and using prompts and feedback to guide students’ \\nreflection (Roskos, Vukelich, & Risko, 2001). Clark and Brennan (1991) thought that reflective \\ndialogue can facilitate learners to create knowledge and generalize practical examples into explicit \\nknowledge. In reflective dialogue, students “integrate and generalize accepted arguments. They'),\n",
              " Document(id='doc_49', metadata={}, page_content='Reflection in Learning \\nOnline Learning Journal – Volume 23 Issue 1 – March 2019                    5 105 \\nIn reflection, we recapitulate our actions and draw lessons from our past experiences \\n(Schwarz, Dreyfus & Hershkowits, 2004). Reflection enables students to rethink their experience \\nin order to improve practice and change their perspectives (Freed, n. d.). This study shows that \\nreflection helped students improve their work. Such improvement was shown in different ways. \\nFor example, through reflection, students could identify the areas that were not clear, look for the \\nbest strategies of completing their tasks, and identify the areas that were neglected by students.  \\nStudents also improved the cohesiveness and the overall quality of their work. Reflection shared \\nwith the whole class enabled students to read others’ reflections and understand each other’s \\nprojects better. Such reflection also provided students an opportunity to offer meaningful feedback'),\n",
              " Document(id='doc_8', metadata={}, page_content='Reflection in Learning \\nOnline Learning Journal – Volume 23 Issue 1 – March 2019                    5 97 \\nReflection stimulates students to question their philosophy and beliefs and make connections \\nbetween students’ beliefs and their assignments, and to tie theory to students’ personal beliefs. \\n“Developing a reflection means that an individual begins to automatically challenge and question \\nwhy tasks were undertaken in a certain way rather than how they were carried out (Helyer, 2015, \\np.23).  Ovens and Tinning (2009) believed that through engaging in reflective activity, students \\n“could begin to peel back some of the layers of their social reality” (p.1130) and search for the \\nsocial structures which have contributed to their oppression.  \\nReflection is not just an individual activity. Reflection can also be a collective activity. \\n“Joint reflection with peers aids individuals as they refine, develop, and enhance teaching skills'),\n",
              " Document(id='doc_9', metadata={}, page_content='Reflection is not just an individual activity. Reflection can also be a collective activity. \\n“Joint reflection with peers aids individuals as they refine, develop, and enhance teaching skills \\nfrom various perspectives” (Krutka, Bergman, Flores, Mason, & Jack, 2014, p. 85). Collaborative \\nreflection can bring different perspectives when we have dialogues with others, when others see \\nthings differently, ask different questions, or challenge our assumptions (Krutka, et. al., 2014). In \\nthe collective reflection, “We interpret what we do and why we do it by involving ourselves and \\nothers in conversation, debate, and reflection on individual and collective understandings. We \\nvalue the importance and relationships of all parties involved” (Bowne, Cutler, DeBates, Gilkerson, \\n& Stremmel, 2010, p. 49).  \\nLarsen, London, and Emke’s (2016) research indicates that in reflection processes, learners \\ncan exchange perspectives among group members and reevaluate their original perspectives.')]"
            ]
          },
          "metadata": {},
          "execution_count": 46
        }
      ]
    },
    {
      "cell_type": "markdown",
      "source": [
        "#6) Contextual Compression Retrieval\n",
        "\n",
        "it need two things :-1)retrival , 2)comprassor build by llm.\n",
        "there are mainly 2 way to build comprassor;-\n",
        "\n",
        "a)LLMChainExtractor\n",
        "\n",
        "b)LLMChainFilter"
      ],
      "metadata": {
        "id": "-HN_yf1OJXKp"
      }
    },
    {
      "cell_type": "code",
      "source": [
        "from langchain.retrievers import ContextualCompressionRetriever\n",
        "from langchain.retrievers.document_compressors import LLMChainExtractor\n"
      ],
      "metadata": {
        "id": "gyzL9vh2IhZp"
      },
      "execution_count": 49,
      "outputs": []
    },
    {
      "cell_type": "code",
      "source": [
        "compressor=LLMChainExtractor.from_llm(llm=llm)"
      ],
      "metadata": {
        "id": "Vg6sZ_TrKTPB"
      },
      "execution_count": 50,
      "outputs": []
    },
    {
      "cell_type": "code",
      "source": [
        "ccr=ContextualCompressionRetriever(base_compressor=compressor,\n",
        "                                   base_retriever=retrival)"
      ],
      "metadata": {
        "id": "hNfbMOWpMJII"
      },
      "execution_count": 51,
      "outputs": []
    },
    {
      "cell_type": "code",
      "source": [
        "ccr.invoke(user_query)"
      ],
      "metadata": {
        "colab": {
          "base_uri": "https://localhost:8080/"
        },
        "id": "9A4t_eX2MZcK",
        "outputId": "bcc0c8de-cb76-4373-e393-892c9017f8b9"
      },
      "execution_count": 52,
      "outputs": [
        {
          "output_type": "execute_result",
          "data": {
            "text/plain": [
              "[Document(metadata={}, page_content='In reflection, we recapitulate our actions and draw lessons from our past experiences (Schwarz, Dreyfus & Hershkowits, 2004). Reflection enables students to rethink their experience in order to improve practice and change their perspectives (Freed, n. d.). This study shows that reflection helped students improve their work. Such improvement was shown in different ways. For example, through reflection, students could identify the areas that were not clear, look for the best strategies of completing their tasks, and identify the areas that were neglected by students. Students also improved the cohesiveness and the overall quality of their work. Reflection shared with the whole class enabled students to read others’ reflections and understand each other’s projects better. Such reflection also provided students an opportunity to offer meaningful feedback.'),\n",
              " Document(metadata={}, page_content='Reflection is not just about looking back on what happened, it is encompassing. People instinctively reflect on events, perhaps to better understand what has happened and make sense of it; the idea of learning from the past, especially trying not to repeat mistakes is well established. (p.22)  \\nReflection enables learners to generalize the main ideas, principles, and abstract concepts from experience (Kolb, 1984). The process of reflection includes debriefing and reframing to expand students’ beliefs and understanding, using journaling as a form of reflection to help students develop conscious awareness, and using prompts and feedback to guide students’ reflection (Roskos, Vukelich, & Risko, 2001). Clark and Brennan (1991) thought that reflective dialogue can facilitate learners to create knowledge and generalize practical examples into explicit knowledge. In reflective dialogue, students “integrate and generalize accepted arguments. They'),\n",
              " Document(metadata={}, page_content='Reflection stimulates students to question their philosophy and beliefs and make connections between students’ beliefs and their assignments, and to tie theory to students’ personal beliefs. “Developing a reflection means that an individual begins to automatically challenge and question why tasks were undertaken in a certain way rather than how they were carried out (Helyer, 2015, p.23). Reflection is not just an individual activity. Reflection can also be a collective activity.')]"
            ]
          },
          "metadata": {},
          "execution_count": 52
        }
      ]
    },
    {
      "cell_type": "code",
      "source": [
        "from langchain.retrievers.document_compressors import LLMChainFilter"
      ],
      "metadata": {
        "id": "H6qXY4lxMcrT"
      },
      "execution_count": 53,
      "outputs": []
    },
    {
      "cell_type": "code",
      "source": [
        "compressor=LLMChainFilter.from_llm(llm=llm)"
      ],
      "metadata": {
        "id": "kVDAldtaMuEK"
      },
      "execution_count": 54,
      "outputs": []
    },
    {
      "cell_type": "code",
      "source": [
        "ccr=ContextualCompressionRetriever(base_compressor=compressor,base_retriever=retrival)"
      ],
      "metadata": {
        "id": "wrFwapoVMzIK"
      },
      "execution_count": 55,
      "outputs": []
    },
    {
      "cell_type": "code",
      "source": [
        "ccr.invoke(user_query)"
      ],
      "metadata": {
        "colab": {
          "base_uri": "https://localhost:8080/"
        },
        "id": "jodKbs8kM78n",
        "outputId": "f0c3e939-92ef-486f-a211-8c6e40770fda"
      },
      "execution_count": 56,
      "outputs": [
        {
          "output_type": "execute_result",
          "data": {
            "text/plain": [
              "[Document(id='doc_4', metadata={}, page_content='Reflection is not just about looking back on what happened, it is encompassing. People \\ninstinctively reflect on events, perhaps to better understand what has happened and make \\nsense of it; the idea of learning from the past, especially trying not to repeat mistakes is \\nwell established. (p.22)  \\nReflection enables learners to generalize the main ideas, principles, and abstract concepts \\nfrom experience (Kolb, 1984). The process of reflection includes debriefing and reframing to \\nexpand students’ beliefs and understanding, using journaling as a form of reflection to help \\nstudents develop conscious awareness, and using prompts and feedback to guide students’ \\nreflection (Roskos, Vukelich, & Risko, 2001). Clark and Brennan (1991) thought that reflective \\ndialogue can facilitate learners to create knowledge and generalize practical examples into explicit \\nknowledge. In reflective dialogue, students “integrate and generalize accepted arguments. They')]"
            ]
          },
          "metadata": {},
          "execution_count": 56
        }
      ]
    },
    {
      "cell_type": "markdown",
      "source": [
        "#7)Ensemble Retrieval\n",
        "\n",
        "when we want to use more than one retrival toether , and net result will be mix of those result according to weight.\n",
        "\n"
      ],
      "metadata": {
        "id": "W4gp3DdbNbLU"
      }
    },
    {
      "cell_type": "code",
      "source": [
        "from langchain.retrievers import EnsembleRetriever\n",
        "er=EnsembleRetriever(retrievers=[ccr,retrival],\n",
        "                     weights=[0.6,0.4])"
      ],
      "metadata": {
        "id": "pL2sFVsrNAA7"
      },
      "execution_count": 57,
      "outputs": []
    },
    {
      "cell_type": "code",
      "source": [
        "er.invoke(user_query)"
      ],
      "metadata": {
        "colab": {
          "base_uri": "https://localhost:8080/"
        },
        "id": "P2LbTReEOJgj",
        "outputId": "00bed0ed-4760-48ca-892f-2f5af133fd59"
      },
      "execution_count": 58,
      "outputs": [
        {
          "output_type": "execute_result",
          "data": {
            "text/plain": [
              "[Document(id='doc_4', metadata={}, page_content='Reflection is not just about looking back on what happened, it is encompassing. People \\ninstinctively reflect on events, perhaps to better understand what has happened and make \\nsense of it; the idea of learning from the past, especially trying not to repeat mistakes is \\nwell established. (p.22)  \\nReflection enables learners to generalize the main ideas, principles, and abstract concepts \\nfrom experience (Kolb, 1984). The process of reflection includes debriefing and reframing to \\nexpand students’ beliefs and understanding, using journaling as a form of reflection to help \\nstudents develop conscious awareness, and using prompts and feedback to guide students’ \\nreflection (Roskos, Vukelich, & Risko, 2001). Clark and Brennan (1991) thought that reflective \\ndialogue can facilitate learners to create knowledge and generalize practical examples into explicit \\nknowledge. In reflective dialogue, students “integrate and generalize accepted arguments. They'),\n",
              " Document(id='doc_49', metadata={}, page_content='Reflection in Learning \\nOnline Learning Journal – Volume 23 Issue 1 – March 2019                    5 105 \\nIn reflection, we recapitulate our actions and draw lessons from our past experiences \\n(Schwarz, Dreyfus & Hershkowits, 2004). Reflection enables students to rethink their experience \\nin order to improve practice and change their perspectives (Freed, n. d.). This study shows that \\nreflection helped students improve their work. Such improvement was shown in different ways. \\nFor example, through reflection, students could identify the areas that were not clear, look for the \\nbest strategies of completing their tasks, and identify the areas that were neglected by students.  \\nStudents also improved the cohesiveness and the overall quality of their work. Reflection shared \\nwith the whole class enabled students to read others’ reflections and understand each other’s \\nprojects better. Such reflection also provided students an opportunity to offer meaningful feedback'),\n",
              " Document(id='doc_8', metadata={}, page_content='Reflection in Learning \\nOnline Learning Journal – Volume 23 Issue 1 – March 2019                    5 97 \\nReflection stimulates students to question their philosophy and beliefs and make connections \\nbetween students’ beliefs and their assignments, and to tie theory to students’ personal beliefs. \\n“Developing a reflection means that an individual begins to automatically challenge and question \\nwhy tasks were undertaken in a certain way rather than how they were carried out (Helyer, 2015, \\np.23).  Ovens and Tinning (2009) believed that through engaging in reflective activity, students \\n“could begin to peel back some of the layers of their social reality” (p.1130) and search for the \\nsocial structures which have contributed to their oppression.  \\nReflection is not just an individual activity. Reflection can also be a collective activity. \\n“Joint reflection with peers aids individuals as they refine, develop, and enhance teaching skills')]"
            ]
          },
          "metadata": {},
          "execution_count": 58
        }
      ]
    },
    {
      "cell_type": "code",
      "source": [],
      "metadata": {
        "id": "tzDUNhXgONhy"
      },
      "execution_count": null,
      "outputs": []
    }
  ]
}